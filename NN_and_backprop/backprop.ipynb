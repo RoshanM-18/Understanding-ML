{
 "cells": [
  {
   "cell_type": "markdown",
   "metadata": {},
   "source": [
    "### MicroGrad\n",
    "\n",
    "-> a tiny autograd engine (autograd -> Automatic gradient (which implements backpropagation))\n",
    "\n",
    "* Neural networks are just mathematical operations. They take the input data as input and they take the weights of the input data as input and perform some mathematical operations and the outputs are our predictions. "
   ]
  },
  {
   "cell_type": "code",
   "execution_count": 1,
   "metadata": {},
   "outputs": [],
   "source": [
    "import numpy as np\n",
    "import matplotlib.pyplot as plt\n",
    "import math\n",
    "import random\n",
    "from graphviz import Digraph"
   ]
  },
  {
   "cell_type": "markdown",
   "metadata": {},
   "source": [
    "#### derivative of a simple function with a single input"
   ]
  },
  {
   "cell_type": "code",
   "execution_count": 64,
   "metadata": {},
   "outputs": [],
   "source": [
    "def f(x): # parabolic equation (quadratic)  \n",
    "\n",
    "    return 3*x**2 - 4*x + 5"
   ]
  },
  {
   "cell_type": "code",
   "execution_count": 65,
   "metadata": {},
   "outputs": [
    {
     "data": {
      "text/plain": [
       "20.0"
      ]
     },
     "execution_count": 65,
     "metadata": {},
     "output_type": "execute_result"
    }
   ],
   "source": [
    "f(3.0)"
   ]
  },
  {
   "cell_type": "code",
   "execution_count": 66,
   "metadata": {},
   "outputs": [
    {
     "data": {
      "image/png": "[encoded data removed]",
      "text/plain": [
       "<Figure size 432x288 with 1 Axes>"
      ]
     },
     "metadata": {
      "needs_background": "light"
     },
     "output_type": "display_data"
    }
   ],
   "source": [
    "xs = np.arange(-5, 5, 0.25)\n",
    "ys = f(xs)\n",
    "plt.plot(ys)\n",
    "plt.show()"
   ]
  },
  {
   "cell_type": "markdown",
   "metadata": {},
   "source": [
    "Q. what is the derivative of this input at any single input x? What is the derivative at different points x?\n",
    "\n",
    "so basically derivative is how a function would respond at different values of x? so in the below example we changed the value of x by adding h in the function. since we added a positive value to the value of x our function nudged towards a positive direction.\n",
    "\n",
    "lim h->0 ((f(x+h)-f(x))/h)"
   ]
  },
  {
   "cell_type": "code",
   "execution_count": 67,
   "metadata": {},
   "outputs": [
    {
     "data": {
      "text/plain": [
       "14.00000009255109"
      ]
     },
     "execution_count": 67,
     "metadata": {},
     "output_type": "execute_result"
    }
   ],
   "source": [
    "h = 0.00000001\n",
    "x = 3.0\n",
    "(f(x+h)-f(x))/h"
   ]
  },
  {
   "cell_type": "code",
   "execution_count": 68,
   "metadata": {},
   "outputs": [
    {
     "data": {
      "text/plain": [
       "-22.00000039920269"
      ]
     },
     "execution_count": 68,
     "metadata": {},
     "output_type": "execute_result"
    }
   ],
   "source": [
    "h = 0.00000001\n",
    "x = -3.0\n",
    "(f(x+h)-f(x))/h"
   ]
  },
  {
   "cell_type": "code",
   "execution_count": 69,
   "metadata": {},
   "outputs": [
    {
     "data": {
      "text/plain": [
       "0.0"
      ]
     },
     "execution_count": 69,
     "metadata": {},
     "output_type": "execute_result"
    }
   ],
   "source": [
    "h = 0.00000001\n",
    "x = 2/3\n",
    "(f(x+h)-f(x))/h"
   ]
  },
  {
   "cell_type": "markdown",
   "metadata": {},
   "source": [
    "#### derivative of a single function with multiple inputs"
   ]
  },
  {
   "cell_type": "code",
   "execution_count": 70,
   "metadata": {},
   "outputs": [
    {
     "data": {
      "text/plain": [
       "4.0"
      ]
     },
     "execution_count": 70,
     "metadata": {},
     "output_type": "execute_result"
    }
   ],
   "source": [
    "a = 2.0\n",
    "b = -3.0\n",
    "c = 10.0\n",
    "d = a*b + c\n",
    "d"
   ]
  },
  {
   "cell_type": "code",
   "execution_count": 71,
   "metadata": {},
   "outputs": [
    {
     "name": "stdout",
     "output_type": "stream",
     "text": [
      "d1 4.0\n",
      "d2 3.9999699999999994\n",
      "slope of dx/da -3.000000000064062\n",
      "d3 4.00002\n",
      "slope of dx/db 2.0000000000131024\n",
      "d4 4.00001\n",
      "slope of dx/dc 0.9999999999621422\n"
     ]
    }
   ],
   "source": [
    "h = 0.00001\n",
    "\n",
    "# inputs\n",
    "a = 2.0\n",
    "b = -3.0\n",
    "c = 10.0\n",
    "\n",
    "d1 = a*b + c\n",
    "a += h\n",
    "d2 = a*b + c\n",
    "\n",
    "a = 2.0\n",
    "b += h\n",
    "d3 = a*b + c\n",
    "\n",
    "b = -3.0\n",
    "c += h\n",
    "d4 = a*b + c\n",
    "\n",
    "print(\"d1\", d1)\n",
    "print(\"d2\", d2)\n",
    "print(\"slope of dx/da\", (d2-d1)/h)\n",
    "print(\"d3\", d3)\n",
    "print(\"slope of dx/db\", (d3-d1)/h)\n",
    "print(\"d4\", d4)\n",
    "print(\"slope of dx/dc\", (d4-d1)/h)"
   ]
  },
  {
   "cell_type": "markdown",
   "metadata": {},
   "source": [
    "#### building micrograd "
   ]
  },
  {
   "cell_type": "code",
   "execution_count": 2,
   "metadata": {},
   "outputs": [],
   "source": [
    "class Value:\n",
    "\n",
    "    def __init__(self, data, _children=(), _op=\"\", label=\"\"):\n",
    "\n",
    "        self.data = data\n",
    "        self.grad = 0.0  # 0 means no effect meaning we assume that at init it doesnt affect the output\n",
    "        self._prev = set(_children)\n",
    "        self._backward = lambda: None # does not do anything, empty function\n",
    "        self._op = _op\n",
    "        self.label = label\n",
    "\n",
    "    def __repr__(self):\n",
    "\n",
    "        return f\"Value(data={self.data})\"\n",
    "\n",
    "    def __add__(self, other):\n",
    "\n",
    "        other = other if isinstance(other, Value) else Value(other) # to do operations like Value(a) + 1\n",
    "        output = Value(self.data + other.data, (self, other), \"+\")\n",
    "\n",
    "        def _backward():  \n",
    "            self.grad += 1.0 * output.grad\n",
    "            other.grad += 1.0 * output.grad\n",
    "\n",
    "        output._backward = _backward\n",
    "\n",
    "        return output\n",
    "\n",
    "    def __radd__(self, other): # other + self\n",
    "\n",
    "        return self + other\n",
    "\n",
    "    def __mul__(self, other):\n",
    "\n",
    "        other = other if isinstance(other, Value) else Value(other) # to do operations like Value(a) * 3\n",
    "        output = Value(self.data * other.data, (self, other), \"*\")\n",
    "\n",
    "        def _backward():\n",
    "            self.grad += other.data * output.grad\n",
    "            other.grad += self.data * output.grad\n",
    "\n",
    "        output._backward = _backward\n",
    "\n",
    "        return output\n",
    "\n",
    "    def __pow__(self, other):\n",
    "\n",
    "        assert isinstance(other, (int, float)), \"only supporting int/float powers for now\"\n",
    "        out = Value(self.data**other, (self, ), f\"**{other}\")\n",
    "\n",
    "        def _backward():\n",
    "            self.grad += other * (self.data**(other-1)) * out.grad\n",
    "\n",
    "        out._backward = _backward\n",
    "\n",
    "        return out\n",
    "\n",
    "    def __rmul__(self, other): # other * self\n",
    "\n",
    "        return self * other\n",
    "\n",
    "    def __truediv__(self, other): \n",
    "\n",
    "        return self * other**-1\n",
    "\n",
    "    def __neg__(self): # -self\n",
    "\n",
    "        return self * -1\n",
    "\n",
    "    def __sub__(self, other): # self - other\n",
    "\n",
    "        return self + (-other)\n",
    "\n",
    "    def exp(self):\n",
    "\n",
    "        x = self.data\n",
    "        out = Value(math.exp(x), (self, ), \"exp\")\n",
    "\n",
    "        def _backward():\n",
    "            self.grad += out.data * out.grad\n",
    "\n",
    "        out._backward = _backward\n",
    "\n",
    "        return out\n",
    "\n",
    "    def tanh(self):\n",
    "        \n",
    "        n = self.data\n",
    "        t = (math.exp(2*n)-1)/(math.exp(2*n)+1)\n",
    "        out = Value(t, _children=(self, ), _op=\"tanh\")\n",
    "\n",
    "        def _backward():\n",
    "            self.grad += (1 - t**2) * out.grad\n",
    "\n",
    "        out._backward = _backward\n",
    "\n",
    "        return out\n",
    "\n",
    "    def backward(self):\n",
    "\n",
    "        topo = []\n",
    "        visited = set()\n",
    "\n",
    "        def build_topo(v):\n",
    "            if v not in visited:\n",
    "                visited.add(v)\n",
    "            \n",
    "                for child in v._prev:\n",
    "                    build_topo(child)\n",
    "\n",
    "                topo.append(v)\n",
    "\n",
    "        build_topo(self)\n",
    "\n",
    "        self.grad = 1.0\n",
    "        for node in reversed(topo):\n",
    "            node._backward()"
   ]
  },
  {
   "cell_type": "code",
   "execution_count": 3,
   "metadata": {},
   "outputs": [
    {
     "data": {
      "text/plain": [
       "Value(data=2.0)"
      ]
     },
     "execution_count": 3,
     "metadata": {},
     "output_type": "execute_result"
    }
   ],
   "source": [
    "a = Value(4.0)\n",
    "b = Value(2.0)\n",
    "a/b"
   ]
  },
  {
   "cell_type": "code",
   "execution_count": 4,
   "metadata": {},
   "outputs": [
    {
     "data": {
      "text/plain": [
       "Value(data=2.0)"
      ]
     },
     "execution_count": 4,
     "metadata": {},
     "output_type": "execute_result"
    }
   ],
   "source": [
    "a - b"
   ]
  },
  {
   "cell_type": "code",
   "execution_count": 5,
   "metadata": {},
   "outputs": [
    {
     "data": {
      "text/plain": [
       "Value(data=1048576.0)"
      ]
     },
     "execution_count": 5,
     "metadata": {},
     "output_type": "execute_result"
    }
   ],
   "source": [
    "a**10"
   ]
  },
  {
   "cell_type": "code",
   "execution_count": 6,
   "metadata": {},
   "outputs": [],
   "source": [
    "def trace(root):\n",
    "    \n",
    "    # builds a set of all nodes and edges in a graph\n",
    "    nodes, edges = set(), set()\n",
    "\n",
    "    def build(v):\n",
    "        if v not in nodes:\n",
    "            nodes.add(v)\n",
    "            for child in v._prev:\n",
    "                edges.add((child, v))\n",
    "                build(child)\n",
    "\n",
    "    build(root)\n",
    "\n",
    "    return nodes, edges\n",
    "\n",
    "def draw_dot(root):\n",
    "\n",
    "    dot = Digraph(format=\"svg\", graph_attr={\"rankdir\": \"LR\"})  # left to right\n",
    "\n",
    "    nodes, edges = trace(root)\n",
    "    for n in nodes:\n",
    "        uid = str(id(n))\n",
    "        # for any value in the graph, create a rectangular (\"record\") node for it\n",
    "        dot.node(name=uid, label=\"{ %s | data %.4f | grad %.4f}\" % (n.label, n.data, n.grad), shape=\"record\")\n",
    "        if n._op:\n",
    "            # if this value is a result of some operation, create an op node for it\n",
    "            dot.node(name=uid+n._op, label=n._op)\n",
    "            # and connect this node to it\n",
    "            dot.edge(uid+n._op, uid)\n",
    "\n",
    "    for n1, n2 in edges:\n",
    "        # and connect n1 to the op node of n2\n",
    "        dot.edge(str(id(n1)), str(id(n2))+n2._op)\n",
    "\n",
    "    return dot"
   ]
  },
  {
   "cell_type": "code",
   "execution_count": 7,
   "metadata": {},
   "outputs": [
    {
     "data": {
      "text/plain": [
       "Value(data=11)"
      ]
     },
     "execution_count": 7,
     "metadata": {},
     "output_type": "execute_result"
    }
   ],
   "source": [
    "Value(10) + 1"
   ]
  },
  {
   "cell_type": "markdown",
   "metadata": {},
   "source": [
    "##### Manual backpropagation"
   ]
  },
  {
   "cell_type": "code",
   "execution_count": 4,
   "metadata": {},
   "outputs": [
    {
     "name": "stdout",
     "output_type": "stream",
     "text": [
      "d Value(data=4.0)\n",
      "children of d {Value(data=10.0), Value(data=-6.0)}\n",
      "operation used for creating d +\n"
     ]
    }
   ],
   "source": [
    "a = Value(2.0, label=\"a\")\n",
    "b = Value(-3.0, label=\"b\")\n",
    "c = Value(10.0, label=\"c\")\n",
    "e = a*b\n",
    "e.label = \"e\"\n",
    "d = e + c\n",
    "d.label = \"d\"\n",
    "f = Value(-2.0, label=\"f\")\n",
    "L = d*f\n",
    "L.label = \"L\"\n",
    "\n",
    "print(\"d\", d)\n",
    "print(\"children of d\", d._prev)\n",
    "print(\"operation used for creating d\", d._op)"
   ]
  },
  {
   "cell_type": "code",
   "execution_count": 5,
   "metadata": {},
   "outputs": [
    {
     "data": {
      "image/svg+xml": "<?xml version=\"1.0\" encoding=\"UTF-8\" standalone=\"no\"?>\n<!DOCTYPE svg PUBLIC \"-//W3C//DTD SVG 1.1//EN\"\n \"http://www.w3.org/Graphics/SVG/1.1/DTD/svg11.dtd\">\n<!-- Generated by graphviz version 2.43.0 (0)\n -->\n<!-- Title: %3 Pages: 1 -->\n<svg width=\"1332pt\" height=\"128pt\"\n viewBox=\"0.00 0.00 1332.00 128.00\" xmlns=\"http://www.w3.org/2000/svg\" xmlns:xlink=\"http://www.w3.org/1999/xlink\">\n<g id=\"graph0\" class=\"graph\" transform=\"scale(1 1) rotate(0) translate(4 124)\">\n<title>%3</title>\n<polygon fill=\"white\" stroke=\"transparent\" points=\"-4,4 -4,-124 1328,-124 1328,4 -4,4\"/>\n<!-- 139771797395472 -->\n<g id=\"node1\" class=\"node\">\n<title>139771797395472</title>\n<polygon fill=\"none\" stroke=\"black\" points=\"728,-82.5 728,-118.5 961,-118.5 961,-82.5 728,-82.5\"/>\n<text text-anchor=\"middle\" x=\"739\" y=\"-96.8\" font-family=\"Times,serif\" font-size=\"14.00\">f</text>\n<polyline fill=\"none\" stroke=\"black\" points=\"750,-82.5 750,-118.5 \"/>\n<text text-anchor=\"middle\" x=\"803.5\" y=\"-96.8\" font-family=\"Times,serif\" font-size=\"14.00\">data &#45;2.0000</text>\n<polyline fill=\"none\" stroke=\"black\" points=\"857,-82.5 857,-118.5 \"/>\n<text text-anchor=\"middle\" x=\"909\" y=\"-96.8\" font-family=\"Times,serif\" font-size=\"14.00\">grad 0.0000</text>\n</g>\n<!-- 139771797405216* -->\n<g id=\"node3\" class=\"node\">\n<title>139771797405216*</title>\n<ellipse fill=\"none\" stroke=\"black\" cx=\"1024\" cy=\"-72.5\" rx=\"27\" ry=\"18\"/>\n<text text-anchor=\"middle\" x=\"1024\" y=\"-68.8\" font-family=\"Times,serif\" font-size=\"14.00\">*</text>\n</g>\n<!-- 139771797395472&#45;&gt;139771797405216* -->\n<g id=\"edge5\" class=\"edge\">\n<title>139771797395472&#45;&gt;139771797405216*</title>\n<path fill=\"none\" stroke=\"black\" d=\"M959.67,-82.49C969.61,-80.92 979.08,-79.43 987.53,-78.1\"/>\n<polygon fill=\"black\" stroke=\"black\" points=\"988.31,-81.52 997.64,-76.5 987.22,-74.6 988.31,-81.52\"/>\n</g>\n<!-- 139771797405216 -->\n<g id=\"node2\" class=\"node\">\n<title>139771797405216</title>\n<polygon fill=\"none\" stroke=\"black\" points=\"1087,-54.5 1087,-90.5 1324,-90.5 1324,-54.5 1087,-54.5\"/>\n<text text-anchor=\"middle\" x=\"1100\" y=\"-68.8\" font-family=\"Times,serif\" font-size=\"14.00\">L</text>\n<polyline fill=\"none\" stroke=\"black\" points=\"1113,-54.5 1113,-90.5 \"/>\n<text text-anchor=\"middle\" x=\"1166.5\" y=\"-68.8\" font-family=\"Times,serif\" font-size=\"14.00\">data &#45;8.0000</text>\n<polyline fill=\"none\" stroke=\"black\" points=\"1220,-54.5 1220,-90.5 \"/>\n<text text-anchor=\"middle\" x=\"1272\" y=\"-68.8\" font-family=\"Times,serif\" font-size=\"14.00\">grad 0.0000</text>\n</g>\n<!-- 139771797405216*&#45;&gt;139771797405216 -->\n<g id=\"edge1\" class=\"edge\">\n<title>139771797405216*&#45;&gt;139771797405216</title>\n<path fill=\"none\" stroke=\"black\" d=\"M1051.1,-72.5C1058.61,-72.5 1067.33,-72.5 1076.75,-72.5\"/>\n<polygon fill=\"black\" stroke=\"black\" points=\"1076.78,-76 1086.78,-72.5 1076.78,-69 1076.78,-76\"/>\n</g>\n<!-- 139771797398160 -->\n<g id=\"node4\" class=\"node\">\n<title>139771797398160</title>\n<polygon fill=\"none\" stroke=\"black\" points=\"0,-83.5 0,-119.5 237,-119.5 237,-83.5 0,-83.5\"/>\n<text text-anchor=\"middle\" x=\"13\" y=\"-97.8\" font-family=\"Times,serif\" font-size=\"14.00\">b</text>\n<polyline fill=\"none\" stroke=\"black\" points=\"26,-83.5 26,-119.5 \"/>\n<text text-anchor=\"middle\" x=\"79.5\" y=\"-97.8\" font-family=\"Times,serif\" font-size=\"14.00\">data &#45;3.0000</text>\n<polyline fill=\"none\" stroke=\"black\" points=\"133,-83.5 133,-119.5 \"/>\n<text text-anchor=\"middle\" x=\"185\" y=\"-97.8\" font-family=\"Times,serif\" font-size=\"14.00\">grad 0.0000</text>\n</g>\n<!-- 139771797401904* -->\n<g id=\"node7\" class=\"node\">\n<title>139771797401904*</title>\n<ellipse fill=\"none\" stroke=\"black\" cx=\"300\" cy=\"-73.5\" rx=\"27\" ry=\"18\"/>\n<text text-anchor=\"middle\" x=\"300\" y=\"-69.8\" font-family=\"Times,serif\" font-size=\"14.00\">*</text>\n</g>\n<!-- 139771797398160&#45;&gt;139771797401904* -->\n<g id=\"edge7\" class=\"edge\">\n<title>139771797398160&#45;&gt;139771797401904*</title>\n<path fill=\"none\" stroke=\"black\" d=\"M234.96,-83.49C245.12,-81.91 254.8,-80.4 263.41,-79.05\"/>\n<polygon fill=\"black\" stroke=\"black\" points=\"264.02,-82.5 273.36,-77.5 262.94,-75.58 264.02,-82.5\"/>\n</g>\n<!-- 139771797396672 -->\n<g id=\"node5\" class=\"node\">\n<title>139771797396672</title>\n<polygon fill=\"none\" stroke=\"black\" points=\"3,-28.5 3,-64.5 234,-64.5 234,-28.5 3,-28.5\"/>\n<text text-anchor=\"middle\" x=\"15.5\" y=\"-42.8\" font-family=\"Times,serif\" font-size=\"14.00\">a</text>\n<polyline fill=\"none\" stroke=\"black\" points=\"28,-28.5 28,-64.5 \"/>\n<text text-anchor=\"middle\" x=\"79\" y=\"-42.8\" font-family=\"Times,serif\" font-size=\"14.00\">data 2.0000</text>\n<polyline fill=\"none\" stroke=\"black\" points=\"130,-28.5 130,-64.5 \"/>\n<text text-anchor=\"middle\" x=\"182\" y=\"-42.8\" font-family=\"Times,serif\" font-size=\"14.00\">grad 0.0000</text>\n</g>\n<!-- 139771797396672&#45;&gt;139771797401904* -->\n<g id=\"edge4\" class=\"edge\">\n<title>139771797396672&#45;&gt;139771797401904*</title>\n<path fill=\"none\" stroke=\"black\" d=\"M234.2,-63.75C244.55,-65.31 254.43,-66.8 263.21,-68.12\"/>\n<polygon fill=\"black\" stroke=\"black\" points=\"262.92,-71.61 273.33,-69.64 263.96,-64.69 262.92,-71.61\"/>\n</g>\n<!-- 139771797401904 -->\n<g id=\"node6\" class=\"node\">\n<title>139771797401904</title>\n<polygon fill=\"none\" stroke=\"black\" points=\"364.5,-55.5 364.5,-91.5 600.5,-91.5 600.5,-55.5 364.5,-55.5\"/>\n<text text-anchor=\"middle\" x=\"377\" y=\"-69.8\" font-family=\"Times,serif\" font-size=\"14.00\">e</text>\n<polyline fill=\"none\" stroke=\"black\" points=\"389.5,-55.5 389.5,-91.5 \"/>\n<text text-anchor=\"middle\" x=\"443\" y=\"-69.8\" font-family=\"Times,serif\" font-size=\"14.00\">data &#45;6.0000</text>\n<polyline fill=\"none\" stroke=\"black\" points=\"496.5,-55.5 496.5,-91.5 \"/>\n<text text-anchor=\"middle\" x=\"548.5\" y=\"-69.8\" font-family=\"Times,serif\" font-size=\"14.00\">grad 0.0000</text>\n</g>\n<!-- 139771797392304+ -->\n<g id=\"node10\" class=\"node\">\n<title>139771797392304+</title>\n<ellipse fill=\"none\" stroke=\"black\" cx=\"665\" cy=\"-45.5\" rx=\"27\" ry=\"18\"/>\n<text text-anchor=\"middle\" x=\"665\" y=\"-41.8\" font-family=\"Times,serif\" font-size=\"14.00\">+</text>\n</g>\n<!-- 139771797401904&#45;&gt;139771797392304+ -->\n<g id=\"edge9\" class=\"edge\">\n<title>139771797401904&#45;&gt;139771797392304+</title>\n<path fill=\"none\" stroke=\"black\" d=\"M599.6,-55.49C609.91,-53.89 619.74,-52.37 628.46,-51.01\"/>\n<polygon fill=\"black\" stroke=\"black\" points=\"629.18,-54.44 638.52,-49.45 628.1,-47.53 629.18,-54.44\"/>\n</g>\n<!-- 139771797401904*&#45;&gt;139771797401904 -->\n<g id=\"edge2\" class=\"edge\">\n<title>139771797401904*&#45;&gt;139771797401904</title>\n<path fill=\"none\" stroke=\"black\" d=\"M327.25,-73.5C335.09,-73.5 344.27,-73.5 354.17,-73.5\"/>\n<polygon fill=\"black\" stroke=\"black\" points=\"354.28,-77 364.28,-73.5 354.28,-70 354.28,-77\"/>\n</g>\n<!-- 139771797405600 -->\n<g id=\"node8\" class=\"node\">\n<title>139771797405600</title>\n<polygon fill=\"none\" stroke=\"black\" points=\"363,-0.5 363,-36.5 602,-36.5 602,-0.5 363,-0.5\"/>\n<text text-anchor=\"middle\" x=\"375\" y=\"-14.8\" font-family=\"Times,serif\" font-size=\"14.00\">c</text>\n<polyline fill=\"none\" stroke=\"black\" points=\"387,-0.5 387,-36.5 \"/>\n<text text-anchor=\"middle\" x=\"442.5\" y=\"-14.8\" font-family=\"Times,serif\" font-size=\"14.00\">data 10.0000</text>\n<polyline fill=\"none\" stroke=\"black\" points=\"498,-0.5 498,-36.5 \"/>\n<text text-anchor=\"middle\" x=\"550\" y=\"-14.8\" font-family=\"Times,serif\" font-size=\"14.00\">grad 0.0000</text>\n</g>\n<!-- 139771797405600&#45;&gt;139771797392304+ -->\n<g id=\"edge6\" class=\"edge\">\n<title>139771797405600&#45;&gt;139771797392304+</title>\n<path fill=\"none\" stroke=\"black\" d=\"M602.13,-36.25C611.53,-37.65 620.47,-38.99 628.48,-40.19\"/>\n<polygon fill=\"black\" stroke=\"black\" points=\"628.03,-43.66 638.44,-41.68 629.07,-36.74 628.03,-43.66\"/>\n</g>\n<!-- 139771797392304 -->\n<g id=\"node9\" class=\"node\">\n<title>139771797392304</title>\n<polygon fill=\"none\" stroke=\"black\" points=\"728.5,-27.5 728.5,-63.5 960.5,-63.5 960.5,-27.5 728.5,-27.5\"/>\n<text text-anchor=\"middle\" x=\"741.5\" y=\"-41.8\" font-family=\"Times,serif\" font-size=\"14.00\">d</text>\n<polyline fill=\"none\" stroke=\"black\" points=\"754.5,-27.5 754.5,-63.5 \"/>\n<text text-anchor=\"middle\" x=\"805.5\" y=\"-41.8\" font-family=\"Times,serif\" font-size=\"14.00\">data 4.0000</text>\n<polyline fill=\"none\" stroke=\"black\" points=\"856.5,-27.5 856.5,-63.5 \"/>\n<text text-anchor=\"middle\" x=\"908.5\" y=\"-41.8\" font-family=\"Times,serif\" font-size=\"14.00\">grad 0.0000</text>\n</g>\n<!-- 139771797392304&#45;&gt;139771797405216* -->\n<g id=\"edge8\" class=\"edge\">\n<title>139771797392304&#45;&gt;139771797405216*</title>\n<path fill=\"none\" stroke=\"black\" d=\"M960.92,-63.06C970.4,-64.5 979.44,-65.87 987.54,-67.11\"/>\n<polygon fill=\"black\" stroke=\"black\" points=\"987.19,-70.59 997.6,-68.64 988.24,-63.67 987.19,-70.59\"/>\n</g>\n<!-- 139771797392304+&#45;&gt;139771797392304 -->\n<g id=\"edge3\" class=\"edge\">\n<title>139771797392304+&#45;&gt;139771797392304</title>\n<path fill=\"none\" stroke=\"black\" d=\"M692.19,-45.5C699.78,-45.5 708.61,-45.5 718.11,-45.5\"/>\n<polygon fill=\"black\" stroke=\"black\" points=\"718.24,-49 728.24,-45.5 718.24,-42 718.24,-49\"/>\n</g>\n</g>\n</svg>\n",
      "text/plain": [
       "<graphviz.graphs.Digraph at 0x7f1f4de301c0>"
      ]
     },
     "execution_count": 5,
     "metadata": {},
     "output_type": "execute_result"
    }
   ],
   "source": [
    "draw_dot(L)"
   ]
  },
  {
   "cell_type": "markdown",
   "metadata": {},
   "source": [
    "Calculating the loss function wrt the weights of the NN so we need to know how the weights are impacting the loss function so basically we are interested in the derivative of the output wrt to the sum of its leaf nodes and those leaf nodes would be the weights of the neural network."
   ]
  },
  {
   "cell_type": "code",
   "execution_count": 6,
   "metadata": {},
   "outputs": [],
   "source": [
    "L.grad = 1.0"
   ]
  },
  {
   "cell_type": "code",
   "execution_count": 7,
   "metadata": {},
   "outputs": [],
   "source": [
    "f.grad = 4.0\n",
    "d.grad = -2.0"
   ]
  },
  {
   "cell_type": "code",
   "execution_count": 8,
   "metadata": {},
   "outputs": [],
   "source": [
    "# dd/dc = 1.0\n",
    "# dd/de = 1.0\n",
    "\n",
    "# d = c+e\n",
    "# dd/dc = d(c+e)\n",
    "# dd/dc = dc/dc + de/dc\n",
    "# dd/dc = 1 + 0 \n",
    "# dd/dc = 1\n",
    "\n",
    "# WANT:\n",
    "# dL/dc\n",
    "\n",
    "# KNOW:\n",
    "# dL/dd\n",
    "# dd/dc\n",
    "\n",
    "# dL/dc = dL/dd * dd/dc\n",
    "# dL/dc = -2.0 * 1\n",
    "# dL/dc = -2.0"
   ]
  },
  {
   "cell_type": "code",
   "execution_count": 9,
   "metadata": {},
   "outputs": [],
   "source": [
    "c.grad = -2.0\n",
    "e.grad = -2.0"
   ]
  },
  {
   "cell_type": "code",
   "execution_count": 10,
   "metadata": {},
   "outputs": [],
   "source": [
    "# dl/da = ?\n",
    "\n",
    "# dl/da = de/da * dL/de\n",
    "\n",
    "# e = a*b\n",
    "# de/da = d(a*b)\n",
    "# de/da = b\n",
    "# de/db = a\n",
    "\n",
    "# dl/da = b * (-2.0)\n",
    "# dl/da = 6.0\n",
    "# dl/db = -4.0"
   ]
  },
  {
   "cell_type": "code",
   "execution_count": 11,
   "metadata": {},
   "outputs": [],
   "source": [
    "a.grad = 6.0\n",
    "b.grad = -4.0"
   ]
  },
  {
   "cell_type": "markdown",
   "metadata": {},
   "source": [
    "One step of optimization loop"
   ]
  },
  {
   "cell_type": "code",
   "execution_count": 12,
   "metadata": {},
   "outputs": [
    {
     "name": "stdout",
     "output_type": "stream",
     "text": [
      "Value(data=7.04)\n"
     ]
    }
   ],
   "source": [
    "a.data += 0.01 * a.grad\n",
    "b.data += 0.01 * b.grad\n",
    "c.data += 0.01 * c.grad\n",
    "f.data += 0.01 * f.grad\n",
    "\n",
    "e = a+b\n",
    "d = e+c\n",
    "L = d+f\n",
    "\n",
    "print(L)"
   ]
  },
  {
   "cell_type": "markdown",
   "metadata": {},
   "source": [
    "Visualizing a tanh activation function using matplotlib and numpy"
   ]
  },
  {
   "cell_type": "code",
   "execution_count": 13,
   "metadata": {},
   "outputs": [
    {
     "data": {
      "image/png": "[encoded data removed]",
      "text/plain": [
       "<Figure size 432x288 with 1 Axes>"
      ]
     },
     "metadata": {
      "needs_background": "light"
     },
     "output_type": "display_data"
    }
   ],
   "source": [
    "plt.plot(np.arange(-5, 5, 0.2), np.tanh(np.arange(-5, 5, 0.2)))\n",
    "plt.grid()\n",
    "plt.show()"
   ]
  },
  {
   "cell_type": "markdown",
   "metadata": {},
   "source": [
    "Using what we have learnt to understand the working of a neuron"
   ]
  },
  {
   "cell_type": "code",
   "execution_count": 4,
   "metadata": {},
   "outputs": [],
   "source": [
    "# inputs x1, x2\n",
    "x1 = Value(2.0, label=\"x1\")\n",
    "x2 = Value(0.0, label=\"x2\")\n",
    "\n",
    "# weights w1, w2\n",
    "w1 = Value(-3.0, label=\"w1\")\n",
    "w2 = Value(1.0, label=\"w2\")\n",
    "\n",
    "# bias of the neuron\n",
    "b = Value(6.8813735870195432, label=\"b\")\n",
    "\n",
    "# x1w1 + x2w2 + b\n",
    "x1w1 = x1 * w1; x1w1.label = \"x1w1\"\n",
    "x2w2 = x2 * w2; x2w2.label = \"x2w2\"\n",
    "x1w1x2w2 = x1w1 + x2w2; x1w1x2w2.label = \"x1w1 + x2w2\"\n",
    "n = x1w1x2w2 + b; n.label = \"n\"\n",
    "o = n.tanh(); o.label = \"o\"\n",
    "o.backward()"
   ]
  },
  {
   "cell_type": "code",
   "execution_count": 78,
   "metadata": {},
   "outputs": [],
   "source": [
    "# o.grad = 1.0"
   ]
  },
  {
   "cell_type": "code",
   "execution_count": 5,
   "metadata": {},
   "outputs": [
    {
     "data": {
      "image/svg+xml": "<?xml version=\"1.0\" encoding=\"UTF-8\" standalone=\"no\"?>\n<!DOCTYPE svg PUBLIC \"-//W3C//DTD SVG 1.1//EN\"\n \"http://www.w3.org/Graphics/SVG/1.1/DTD/svg11.dtd\">\n<!-- Generated by graphviz version 2.43.0 (0)\n -->\n<!-- Title: %3 Pages: 1 -->\n<svg width=\"1825pt\" height=\"210pt\"\n viewBox=\"0.00 0.00 1824.69 210.00\" xmlns=\"http://www.w3.org/2000/svg\" xmlns:xlink=\"http://www.w3.org/1999/xlink\">\n<g id=\"graph0\" class=\"graph\" transform=\"scale(1 1) rotate(0) translate(4 206)\">\n<title>%3</title>\n<polygon fill=\"white\" stroke=\"transparent\" points=\"-4,4 -4,-206 1820.69,-206 1820.69,4 -4,4\"/>\n<!-- 140125824096320 -->\n<g id=\"node1\" class=\"node\">\n<title>140125824096320</title>\n<polygon fill=\"none\" stroke=\"black\" points=\"4.5,-165.5 4.5,-201.5 244.5,-201.5 244.5,-165.5 4.5,-165.5\"/>\n<text text-anchor=\"middle\" x=\"21.5\" y=\"-179.8\" font-family=\"Times,serif\" font-size=\"14.00\">x2</text>\n<polyline fill=\"none\" stroke=\"black\" points=\"38.5,-165.5 38.5,-201.5 \"/>\n<text text-anchor=\"middle\" x=\"89.5\" y=\"-179.8\" font-family=\"Times,serif\" font-size=\"14.00\">data 0.0000</text>\n<polyline fill=\"none\" stroke=\"black\" points=\"140.5,-165.5 140.5,-201.5 \"/>\n<text text-anchor=\"middle\" x=\"192.5\" y=\"-179.8\" font-family=\"Times,serif\" font-size=\"14.00\">grad 0.5000</text>\n</g>\n<!-- 140125824091952* -->\n<g id=\"node8\" class=\"node\">\n<title>140125824091952*</title>\n<ellipse fill=\"none\" stroke=\"black\" cx=\"312\" cy=\"-128.5\" rx=\"27\" ry=\"18\"/>\n<text text-anchor=\"middle\" x=\"312\" y=\"-124.8\" font-family=\"Times,serif\" font-size=\"14.00\">*</text>\n</g>\n<!-- 140125824096320&#45;&gt;140125824091952* -->\n<g id=\"edge14\" class=\"edge\">\n<title>140125824096320&#45;&gt;140125824091952*</title>\n<path fill=\"none\" stroke=\"black\" d=\"M218.13,-165.46C228.63,-162.77 239.1,-159.78 249,-156.5 259.71,-152.96 271.05,-148.16 281.07,-143.54\"/>\n<polygon fill=\"black\" stroke=\"black\" points=\"282.67,-146.66 290.2,-139.21 279.67,-140.33 282.67,-146.66\"/>\n</g>\n<!-- 140125824094304 -->\n<g id=\"node2\" class=\"node\">\n<title>140125824094304</title>\n<polygon fill=\"none\" stroke=\"black\" points=\"0,-55.5 0,-91.5 249,-91.5 249,-55.5 0,-55.5\"/>\n<text text-anchor=\"middle\" x=\"19\" y=\"-69.8\" font-family=\"Times,serif\" font-size=\"14.00\">w1</text>\n<polyline fill=\"none\" stroke=\"black\" points=\"38,-55.5 38,-91.5 \"/>\n<text text-anchor=\"middle\" x=\"91.5\" y=\"-69.8\" font-family=\"Times,serif\" font-size=\"14.00\">data &#45;3.0000</text>\n<polyline fill=\"none\" stroke=\"black\" points=\"145,-55.5 145,-91.5 \"/>\n<text text-anchor=\"middle\" x=\"197\" y=\"-69.8\" font-family=\"Times,serif\" font-size=\"14.00\">grad 1.0000</text>\n</g>\n<!-- 140125824092096* -->\n<g id=\"node15\" class=\"node\">\n<title>140125824092096*</title>\n<ellipse fill=\"none\" stroke=\"black\" cx=\"312\" cy=\"-73.5\" rx=\"27\" ry=\"18\"/>\n<text text-anchor=\"middle\" x=\"312\" y=\"-69.8\" font-family=\"Times,serif\" font-size=\"14.00\">*</text>\n</g>\n<!-- 140125824094304&#45;&gt;140125824092096* -->\n<g id=\"edge9\" class=\"edge\">\n<title>140125824094304&#45;&gt;140125824092096*</title>\n<path fill=\"none\" stroke=\"black\" d=\"M249.23,-73.5C258.37,-73.5 267.05,-73.5 274.87,-73.5\"/>\n<polygon fill=\"black\" stroke=\"black\" points=\"274.95,-77 284.95,-73.5 274.95,-70 274.95,-77\"/>\n</g>\n<!-- 140125824093344 -->\n<g id=\"node3\" class=\"node\">\n<title>140125824093344</title>\n<polygon fill=\"none\" stroke=\"black\" points=\"1218,-54.5 1218,-90.5 1450,-90.5 1450,-54.5 1218,-54.5\"/>\n<text text-anchor=\"middle\" x=\"1231\" y=\"-68.8\" font-family=\"Times,serif\" font-size=\"14.00\">n</text>\n<polyline fill=\"none\" stroke=\"black\" points=\"1244,-54.5 1244,-90.5 \"/>\n<text text-anchor=\"middle\" x=\"1295\" y=\"-68.8\" font-family=\"Times,serif\" font-size=\"14.00\">data 0.8814</text>\n<polyline fill=\"none\" stroke=\"black\" points=\"1346,-54.5 1346,-90.5 \"/>\n<text text-anchor=\"middle\" x=\"1398\" y=\"-68.8\" font-family=\"Times,serif\" font-size=\"14.00\">grad 0.5000</text>\n</g>\n<!-- 140125824093584tanh -->\n<g id=\"node13\" class=\"node\">\n<title>140125824093584tanh</title>\n<ellipse fill=\"none\" stroke=\"black\" cx=\"1517.85\" cy=\"-72.5\" rx=\"31.7\" ry=\"18\"/>\n<text text-anchor=\"middle\" x=\"1517.85\" y=\"-68.8\" font-family=\"Times,serif\" font-size=\"14.00\">tanh</text>\n</g>\n<!-- 140125824093344&#45;&gt;140125824093584tanh -->\n<g id=\"edge11\" class=\"edge\">\n<title>140125824093344&#45;&gt;140125824093584tanh</title>\n<path fill=\"none\" stroke=\"black\" d=\"M1450.17,-72.5C1459.08,-72.5 1467.66,-72.5 1475.53,-72.5\"/>\n<polygon fill=\"black\" stroke=\"black\" points=\"1475.78,-76 1485.78,-72.5 1475.78,-69 1475.78,-76\"/>\n</g>\n<!-- 140125824093344+ -->\n<g id=\"node4\" class=\"node\">\n<title>140125824093344+</title>\n<ellipse fill=\"none\" stroke=\"black\" cx=\"1155\" cy=\"-72.5\" rx=\"27\" ry=\"18\"/>\n<text text-anchor=\"middle\" x=\"1155\" y=\"-68.8\" font-family=\"Times,serif\" font-size=\"14.00\">+</text>\n</g>\n<!-- 140125824093344+&#45;&gt;140125824093344 -->\n<g id=\"edge1\" class=\"edge\">\n<title>140125824093344+&#45;&gt;140125824093344</title>\n<path fill=\"none\" stroke=\"black\" d=\"M1182.12,-72.5C1189.53,-72.5 1198.14,-72.5 1207.4,-72.5\"/>\n<polygon fill=\"black\" stroke=\"black\" points=\"1207.69,-76 1217.69,-72.5 1207.69,-69 1207.69,-76\"/>\n</g>\n<!-- 140125824094880 -->\n<g id=\"node5\" class=\"node\">\n<title>140125824094880</title>\n<polygon fill=\"none\" stroke=\"black\" points=\"2.5,-0.5 2.5,-36.5 246.5,-36.5 246.5,-0.5 2.5,-0.5\"/>\n<text text-anchor=\"middle\" x=\"19.5\" y=\"-14.8\" font-family=\"Times,serif\" font-size=\"14.00\">x1</text>\n<polyline fill=\"none\" stroke=\"black\" points=\"36.5,-0.5 36.5,-36.5 \"/>\n<text text-anchor=\"middle\" x=\"87.5\" y=\"-14.8\" font-family=\"Times,serif\" font-size=\"14.00\">data 2.0000</text>\n<polyline fill=\"none\" stroke=\"black\" points=\"138.5,-0.5 138.5,-36.5 \"/>\n<text text-anchor=\"middle\" x=\"192.5\" y=\"-14.8\" font-family=\"Times,serif\" font-size=\"14.00\">grad &#45;1.5000</text>\n</g>\n<!-- 140125824094880&#45;&gt;140125824092096* -->\n<g id=\"edge6\" class=\"edge\">\n<title>140125824094880&#45;&gt;140125824092096*</title>\n<path fill=\"none\" stroke=\"black\" d=\"M214.42,-36.55C226.15,-39.54 237.93,-42.87 249,-46.5 259.46,-49.93 270.57,-54.47 280.46,-58.84\"/>\n<polygon fill=\"black\" stroke=\"black\" points=\"279.31,-62.17 289.87,-63.12 282.21,-55.79 279.31,-62.17\"/>\n</g>\n<!-- 140125824094400 -->\n<g id=\"node6\" class=\"node\">\n<title>140125824094400</title>\n<polygon fill=\"none\" stroke=\"black\" points=\"2.5,-110.5 2.5,-146.5 246.5,-146.5 246.5,-110.5 2.5,-110.5\"/>\n<text text-anchor=\"middle\" x=\"21.5\" y=\"-124.8\" font-family=\"Times,serif\" font-size=\"14.00\">w2</text>\n<polyline fill=\"none\" stroke=\"black\" points=\"40.5,-110.5 40.5,-146.5 \"/>\n<text text-anchor=\"middle\" x=\"91.5\" y=\"-124.8\" font-family=\"Times,serif\" font-size=\"14.00\">data 1.0000</text>\n<polyline fill=\"none\" stroke=\"black\" points=\"142.5,-110.5 142.5,-146.5 \"/>\n<text text-anchor=\"middle\" x=\"194.5\" y=\"-124.8\" font-family=\"Times,serif\" font-size=\"14.00\">grad 0.0000</text>\n</g>\n<!-- 140125824094400&#45;&gt;140125824091952* -->\n<g id=\"edge7\" class=\"edge\">\n<title>140125824094400&#45;&gt;140125824091952*</title>\n<path fill=\"none\" stroke=\"black\" d=\"M246.64,-128.5C256.7,-128.5 266.26,-128.5 274.79,-128.5\"/>\n<polygon fill=\"black\" stroke=\"black\" points=\"275,-132 285,-128.5 275,-125 275,-132\"/>\n</g>\n<!-- 140125824091952 -->\n<g id=\"node7\" class=\"node\">\n<title>140125824091952</title>\n<polygon fill=\"none\" stroke=\"black\" points=\"377.5,-110.5 377.5,-146.5 638.5,-146.5 638.5,-110.5 377.5,-110.5\"/>\n<text text-anchor=\"middle\" x=\"405\" y=\"-124.8\" font-family=\"Times,serif\" font-size=\"14.00\">x2w2</text>\n<polyline fill=\"none\" stroke=\"black\" points=\"432.5,-110.5 432.5,-146.5 \"/>\n<text text-anchor=\"middle\" x=\"483.5\" y=\"-124.8\" font-family=\"Times,serif\" font-size=\"14.00\">data 0.0000</text>\n<polyline fill=\"none\" stroke=\"black\" points=\"534.5,-110.5 534.5,-146.5 \"/>\n<text text-anchor=\"middle\" x=\"586.5\" y=\"-124.8\" font-family=\"Times,serif\" font-size=\"14.00\">grad 0.5000</text>\n</g>\n<!-- 140125824105824+ -->\n<g id=\"node10\" class=\"node\">\n<title>140125824105824+</title>\n<ellipse fill=\"none\" stroke=\"black\" cx=\"704\" cy=\"-100.5\" rx=\"27\" ry=\"18\"/>\n<text text-anchor=\"middle\" x=\"704\" y=\"-96.8\" font-family=\"Times,serif\" font-size=\"14.00\">+</text>\n</g>\n<!-- 140125824091952&#45;&gt;140125824105824+ -->\n<g id=\"edge10\" class=\"edge\">\n<title>140125824091952&#45;&gt;140125824105824+</title>\n<path fill=\"none\" stroke=\"black\" d=\"M633.78,-110.49C645.77,-108.76 657.15,-107.12 667.08,-105.68\"/>\n<polygon fill=\"black\" stroke=\"black\" points=\"667.86,-109.11 677.25,-104.22 666.86,-102.18 667.86,-109.11\"/>\n</g>\n<!-- 140125824091952*&#45;&gt;140125824091952 -->\n<g id=\"edge2\" class=\"edge\">\n<title>140125824091952*&#45;&gt;140125824091952</title>\n<path fill=\"none\" stroke=\"black\" d=\"M339.16,-128.5C347.24,-128.5 356.75,-128.5 367.07,-128.5\"/>\n<polygon fill=\"black\" stroke=\"black\" points=\"367.2,-132 377.2,-128.5 367.2,-125 367.2,-132\"/>\n</g>\n<!-- 140125824105824 -->\n<g id=\"node9\" class=\"node\">\n<title>140125824105824</title>\n<polygon fill=\"none\" stroke=\"black\" points=\"767,-82.5 767,-118.5 1092,-118.5 1092,-82.5 767,-82.5\"/>\n<text text-anchor=\"middle\" x=\"824\" y=\"-96.8\" font-family=\"Times,serif\" font-size=\"14.00\">x1w1 + x2w2</text>\n<polyline fill=\"none\" stroke=\"black\" points=\"881,-82.5 881,-118.5 \"/>\n<text text-anchor=\"middle\" x=\"934.5\" y=\"-96.8\" font-family=\"Times,serif\" font-size=\"14.00\">data &#45;6.0000</text>\n<polyline fill=\"none\" stroke=\"black\" points=\"988,-82.5 988,-118.5 \"/>\n<text text-anchor=\"middle\" x=\"1040\" y=\"-96.8\" font-family=\"Times,serif\" font-size=\"14.00\">grad 0.5000</text>\n</g>\n<!-- 140125824105824&#45;&gt;140125824093344+ -->\n<g id=\"edge12\" class=\"edge\">\n<title>140125824105824&#45;&gt;140125824093344+</title>\n<path fill=\"none\" stroke=\"black\" d=\"M1074.26,-82.49C1090.41,-80.47 1105.59,-78.56 1118.28,-76.97\"/>\n<polygon fill=\"black\" stroke=\"black\" points=\"1118.84,-80.43 1128.32,-75.72 1117.96,-73.49 1118.84,-80.43\"/>\n</g>\n<!-- 140125824105824+&#45;&gt;140125824105824 -->\n<g id=\"edge3\" class=\"edge\">\n<title>140125824105824+&#45;&gt;140125824105824</title>\n<path fill=\"none\" stroke=\"black\" d=\"M731.08,-100.5C738.51,-100.5 747.21,-100.5 756.74,-100.5\"/>\n<polygon fill=\"black\" stroke=\"black\" points=\"756.95,-104 766.95,-100.5 756.95,-97 756.95,-104\"/>\n</g>\n<!-- 140125824101744 -->\n<g id=\"node11\" class=\"node\">\n<title>140125824101744</title>\n<polygon fill=\"none\" stroke=\"black\" points=\"813.5,-27.5 813.5,-63.5 1045.5,-63.5 1045.5,-27.5 813.5,-27.5\"/>\n<text text-anchor=\"middle\" x=\"826.5\" y=\"-41.8\" font-family=\"Times,serif\" font-size=\"14.00\">b</text>\n<polyline fill=\"none\" stroke=\"black\" points=\"839.5,-27.5 839.5,-63.5 \"/>\n<text text-anchor=\"middle\" x=\"890.5\" y=\"-41.8\" font-family=\"Times,serif\" font-size=\"14.00\">data 6.8814</text>\n<polyline fill=\"none\" stroke=\"black\" points=\"941.5,-27.5 941.5,-63.5 \"/>\n<text text-anchor=\"middle\" x=\"993.5\" y=\"-41.8\" font-family=\"Times,serif\" font-size=\"14.00\">grad 0.5000</text>\n</g>\n<!-- 140125824101744&#45;&gt;140125824093344+ -->\n<g id=\"edge13\" class=\"edge\">\n<title>140125824101744&#45;&gt;140125824093344+</title>\n<path fill=\"none\" stroke=\"black\" d=\"M1045.52,-59.4C1071.82,-62.57 1097.87,-65.72 1117.85,-68.13\"/>\n<polygon fill=\"black\" stroke=\"black\" points=\"1117.65,-71.63 1128,-69.36 1118.49,-64.68 1117.65,-71.63\"/>\n</g>\n<!-- 140125824093584 -->\n<g id=\"node12\" class=\"node\">\n<title>140125824093584</title>\n<polygon fill=\"none\" stroke=\"black\" points=\"1585.69,-54.5 1585.69,-90.5 1816.69,-90.5 1816.69,-54.5 1585.69,-54.5\"/>\n<text text-anchor=\"middle\" x=\"1598.19\" y=\"-68.8\" font-family=\"Times,serif\" font-size=\"14.00\">o</text>\n<polyline fill=\"none\" stroke=\"black\" points=\"1610.69,-54.5 1610.69,-90.5 \"/>\n<text text-anchor=\"middle\" x=\"1661.69\" y=\"-68.8\" font-family=\"Times,serif\" font-size=\"14.00\">data 0.7071</text>\n<polyline fill=\"none\" stroke=\"black\" points=\"1712.69,-54.5 1712.69,-90.5 \"/>\n<text text-anchor=\"middle\" x=\"1764.69\" y=\"-68.8\" font-family=\"Times,serif\" font-size=\"14.00\">grad 1.0000</text>\n</g>\n<!-- 140125824093584tanh&#45;&gt;140125824093584 -->\n<g id=\"edge4\" class=\"edge\">\n<title>140125824093584tanh&#45;&gt;140125824093584</title>\n<path fill=\"none\" stroke=\"black\" d=\"M1550.02,-72.5C1557.61,-72.5 1566.19,-72.5 1575.31,-72.5\"/>\n<polygon fill=\"black\" stroke=\"black\" points=\"1575.4,-76 1585.4,-72.5 1575.4,-69 1575.4,-76\"/>\n</g>\n<!-- 140125824092096 -->\n<g id=\"node14\" class=\"node\">\n<title>140125824092096</title>\n<polygon fill=\"none\" stroke=\"black\" points=\"375,-55.5 375,-91.5 641,-91.5 641,-55.5 375,-55.5\"/>\n<text text-anchor=\"middle\" x=\"402.5\" y=\"-69.8\" font-family=\"Times,serif\" font-size=\"14.00\">x1w1</text>\n<polyline fill=\"none\" stroke=\"black\" points=\"430,-55.5 430,-91.5 \"/>\n<text text-anchor=\"middle\" x=\"483.5\" y=\"-69.8\" font-family=\"Times,serif\" font-size=\"14.00\">data &#45;6.0000</text>\n<polyline fill=\"none\" stroke=\"black\" points=\"537,-55.5 537,-91.5 \"/>\n<text text-anchor=\"middle\" x=\"589\" y=\"-69.8\" font-family=\"Times,serif\" font-size=\"14.00\">grad 0.5000</text>\n</g>\n<!-- 140125824092096&#45;&gt;140125824105824+ -->\n<g id=\"edge8\" class=\"edge\">\n<title>140125824092096&#45;&gt;140125824105824+</title>\n<path fill=\"none\" stroke=\"black\" d=\"M638.4,-91.51C648.78,-92.95 658.6,-94.32 667.3,-95.53\"/>\n<polygon fill=\"black\" stroke=\"black\" points=\"666.94,-99.01 677.32,-96.93 667.9,-92.08 666.94,-99.01\"/>\n</g>\n<!-- 140125824092096*&#45;&gt;140125824092096 -->\n<g id=\"edge5\" class=\"edge\">\n<title>140125824092096*&#45;&gt;140125824092096</title>\n<path fill=\"none\" stroke=\"black\" d=\"M339.16,-73.5C346.61,-73.5 355.28,-73.5 364.68,-73.5\"/>\n<polygon fill=\"black\" stroke=\"black\" points=\"364.73,-77 374.73,-73.5 364.73,-70 364.73,-77\"/>\n</g>\n</g>\n</svg>\n",
      "text/plain": [
       "<graphviz.graphs.Digraph at 0x7f7195f82470>"
      ]
     },
     "execution_count": 5,
     "metadata": {},
     "output_type": "execute_result"
    }
   ],
   "source": [
    "draw_dot(o)"
   ]
  },
  {
   "cell_type": "code",
   "execution_count": 17,
   "metadata": {},
   "outputs": [],
   "source": [
    "o.backward()"
   ]
  },
  {
   "cell_type": "code",
   "execution_count": 18,
   "metadata": {},
   "outputs": [
    {
     "data": {
      "text/plain": [
       "0.4999999999999999"
      ]
     },
     "execution_count": 18,
     "metadata": {},
     "output_type": "execute_result"
    }
   ],
   "source": [
    "# o = tanh(n)\n",
    "# do/dn = 1 - tanh(n)**2\n",
    "# do/dn = 1 - o**2\n",
    "\n",
    "1 - (o.data**2)"
   ]
  },
  {
   "cell_type": "code",
   "execution_count": 19,
   "metadata": {},
   "outputs": [],
   "source": [
    "n.grad = 0.5"
   ]
  },
  {
   "cell_type": "code",
   "execution_count": 20,
   "metadata": {},
   "outputs": [],
   "source": [
    "x1w1x2w2.grad = 0.5\n",
    "b.grad = 0.5"
   ]
  },
  {
   "cell_type": "code",
   "execution_count": 21,
   "metadata": {},
   "outputs": [],
   "source": [
    "x1w1.grad = 0.5\n",
    "x2w2.grad = 0.5"
   ]
  },
  {
   "cell_type": "code",
   "execution_count": 22,
   "metadata": {},
   "outputs": [],
   "source": [
    "# do/dx2 = do/dx2w2 * dx2w2/dx2\n",
    "# do/dx2 = 0.5 * w2.data\n",
    "\n",
    "# do/dw2 = do/dx2w2 * dx2w2/dw2\n",
    "# do/dw2 = 0.5 * x2.data"
   ]
  },
  {
   "cell_type": "code",
   "execution_count": 23,
   "metadata": {},
   "outputs": [],
   "source": [
    "x2.grad = w2.data * x2w2.grad\n",
    "w2.grad = x2.data * x2w2.grad"
   ]
  },
  {
   "cell_type": "code",
   "execution_count": 24,
   "metadata": {},
   "outputs": [],
   "source": [
    "x1.grad = w1.data * x1w1.grad\n",
    "w1.grad = x1.data * x1w1.grad"
   ]
  },
  {
   "cell_type": "code",
   "execution_count": null,
   "metadata": {},
   "outputs": [],
   "source": []
  },
  {
   "cell_type": "markdown",
   "metadata": {},
   "source": [
    "#### automating the backpropagation rather than performing it manually"
   ]
  },
  {
   "cell_type": "code",
   "execution_count": 6,
   "metadata": {},
   "outputs": [
    {
     "data": {
      "image/svg+xml": "<?xml version=\"1.0\" encoding=\"UTF-8\" standalone=\"no\"?>\n<!DOCTYPE svg PUBLIC \"-//W3C//DTD SVG 1.1//EN\"\n \"http://www.w3.org/Graphics/SVG/1.1/DTD/svg11.dtd\">\n<!-- Generated by graphviz version 2.43.0 (0)\n -->\n<!-- Title: %3 Pages: 1 -->\n<svg width=\"1825pt\" height=\"210pt\"\n viewBox=\"0.00 0.00 1824.69 210.00\" xmlns=\"http://www.w3.org/2000/svg\" xmlns:xlink=\"http://www.w3.org/1999/xlink\">\n<g id=\"graph0\" class=\"graph\" transform=\"scale(1 1) rotate(0) translate(4 206)\">\n<title>%3</title>\n<polygon fill=\"white\" stroke=\"transparent\" points=\"-4,4 -4,-206 1820.69,-206 1820.69,4 -4,4\"/>\n<!-- 140125824096320 -->\n<g id=\"node1\" class=\"node\">\n<title>140125824096320</title>\n<polygon fill=\"none\" stroke=\"black\" points=\"4.5,-165.5 4.5,-201.5 244.5,-201.5 244.5,-165.5 4.5,-165.5\"/>\n<text text-anchor=\"middle\" x=\"21.5\" y=\"-179.8\" font-family=\"Times,serif\" font-size=\"14.00\">x2</text>\n<polyline fill=\"none\" stroke=\"black\" points=\"38.5,-165.5 38.5,-201.5 \"/>\n<text text-anchor=\"middle\" x=\"89.5\" y=\"-179.8\" font-family=\"Times,serif\" font-size=\"14.00\">data 0.0000</text>\n<polyline fill=\"none\" stroke=\"black\" points=\"140.5,-165.5 140.5,-201.5 \"/>\n<text text-anchor=\"middle\" x=\"192.5\" y=\"-179.8\" font-family=\"Times,serif\" font-size=\"14.00\">grad 0.5000</text>\n</g>\n<!-- 140125824091952* -->\n<g id=\"node8\" class=\"node\">\n<title>140125824091952*</title>\n<ellipse fill=\"none\" stroke=\"black\" cx=\"312\" cy=\"-128.5\" rx=\"27\" ry=\"18\"/>\n<text text-anchor=\"middle\" x=\"312\" y=\"-124.8\" font-family=\"Times,serif\" font-size=\"14.00\">*</text>\n</g>\n<!-- 140125824096320&#45;&gt;140125824091952* -->\n<g id=\"edge14\" class=\"edge\">\n<title>140125824096320&#45;&gt;140125824091952*</title>\n<path fill=\"none\" stroke=\"black\" d=\"M218.13,-165.46C228.63,-162.77 239.1,-159.78 249,-156.5 259.71,-152.96 271.05,-148.16 281.07,-143.54\"/>\n<polygon fill=\"black\" stroke=\"black\" points=\"282.67,-146.66 290.2,-139.21 279.67,-140.33 282.67,-146.66\"/>\n</g>\n<!-- 140125824094304 -->\n<g id=\"node2\" class=\"node\">\n<title>140125824094304</title>\n<polygon fill=\"none\" stroke=\"black\" points=\"0,-55.5 0,-91.5 249,-91.5 249,-55.5 0,-55.5\"/>\n<text text-anchor=\"middle\" x=\"19\" y=\"-69.8\" font-family=\"Times,serif\" font-size=\"14.00\">w1</text>\n<polyline fill=\"none\" stroke=\"black\" points=\"38,-55.5 38,-91.5 \"/>\n<text text-anchor=\"middle\" x=\"91.5\" y=\"-69.8\" font-family=\"Times,serif\" font-size=\"14.00\">data &#45;3.0000</text>\n<polyline fill=\"none\" stroke=\"black\" points=\"145,-55.5 145,-91.5 \"/>\n<text text-anchor=\"middle\" x=\"197\" y=\"-69.8\" font-family=\"Times,serif\" font-size=\"14.00\">grad 1.0000</text>\n</g>\n<!-- 140125824092096* -->\n<g id=\"node15\" class=\"node\">\n<title>140125824092096*</title>\n<ellipse fill=\"none\" stroke=\"black\" cx=\"312\" cy=\"-73.5\" rx=\"27\" ry=\"18\"/>\n<text text-anchor=\"middle\" x=\"312\" y=\"-69.8\" font-family=\"Times,serif\" font-size=\"14.00\">*</text>\n</g>\n<!-- 140125824094304&#45;&gt;140125824092096* -->\n<g id=\"edge9\" class=\"edge\">\n<title>140125824094304&#45;&gt;140125824092096*</title>\n<path fill=\"none\" stroke=\"black\" d=\"M249.23,-73.5C258.37,-73.5 267.05,-73.5 274.87,-73.5\"/>\n<polygon fill=\"black\" stroke=\"black\" points=\"274.95,-77 284.95,-73.5 274.95,-70 274.95,-77\"/>\n</g>\n<!-- 140125824093344 -->\n<g id=\"node3\" class=\"node\">\n<title>140125824093344</title>\n<polygon fill=\"none\" stroke=\"black\" points=\"1218,-54.5 1218,-90.5 1450,-90.5 1450,-54.5 1218,-54.5\"/>\n<text text-anchor=\"middle\" x=\"1231\" y=\"-68.8\" font-family=\"Times,serif\" font-size=\"14.00\">n</text>\n<polyline fill=\"none\" stroke=\"black\" points=\"1244,-54.5 1244,-90.5 \"/>\n<text text-anchor=\"middle\" x=\"1295\" y=\"-68.8\" font-family=\"Times,serif\" font-size=\"14.00\">data 0.8814</text>\n<polyline fill=\"none\" stroke=\"black\" points=\"1346,-54.5 1346,-90.5 \"/>\n<text text-anchor=\"middle\" x=\"1398\" y=\"-68.8\" font-family=\"Times,serif\" font-size=\"14.00\">grad 0.5000</text>\n</g>\n<!-- 140125824093584tanh -->\n<g id=\"node13\" class=\"node\">\n<title>140125824093584tanh</title>\n<ellipse fill=\"none\" stroke=\"black\" cx=\"1517.85\" cy=\"-72.5\" rx=\"31.7\" ry=\"18\"/>\n<text text-anchor=\"middle\" x=\"1517.85\" y=\"-68.8\" font-family=\"Times,serif\" font-size=\"14.00\">tanh</text>\n</g>\n<!-- 140125824093344&#45;&gt;140125824093584tanh -->\n<g id=\"edge11\" class=\"edge\">\n<title>140125824093344&#45;&gt;140125824093584tanh</title>\n<path fill=\"none\" stroke=\"black\" d=\"M1450.17,-72.5C1459.08,-72.5 1467.66,-72.5 1475.53,-72.5\"/>\n<polygon fill=\"black\" stroke=\"black\" points=\"1475.78,-76 1485.78,-72.5 1475.78,-69 1475.78,-76\"/>\n</g>\n<!-- 140125824093344+ -->\n<g id=\"node4\" class=\"node\">\n<title>140125824093344+</title>\n<ellipse fill=\"none\" stroke=\"black\" cx=\"1155\" cy=\"-72.5\" rx=\"27\" ry=\"18\"/>\n<text text-anchor=\"middle\" x=\"1155\" y=\"-68.8\" font-family=\"Times,serif\" font-size=\"14.00\">+</text>\n</g>\n<!-- 140125824093344+&#45;&gt;140125824093344 -->\n<g id=\"edge1\" class=\"edge\">\n<title>140125824093344+&#45;&gt;140125824093344</title>\n<path fill=\"none\" stroke=\"black\" d=\"M1182.12,-72.5C1189.53,-72.5 1198.14,-72.5 1207.4,-72.5\"/>\n<polygon fill=\"black\" stroke=\"black\" points=\"1207.69,-76 1217.69,-72.5 1207.69,-69 1207.69,-76\"/>\n</g>\n<!-- 140125824094880 -->\n<g id=\"node5\" class=\"node\">\n<title>140125824094880</title>\n<polygon fill=\"none\" stroke=\"black\" points=\"2.5,-0.5 2.5,-36.5 246.5,-36.5 246.5,-0.5 2.5,-0.5\"/>\n<text text-anchor=\"middle\" x=\"19.5\" y=\"-14.8\" font-family=\"Times,serif\" font-size=\"14.00\">x1</text>\n<polyline fill=\"none\" stroke=\"black\" points=\"36.5,-0.5 36.5,-36.5 \"/>\n<text text-anchor=\"middle\" x=\"87.5\" y=\"-14.8\" font-family=\"Times,serif\" font-size=\"14.00\">data 2.0000</text>\n<polyline fill=\"none\" stroke=\"black\" points=\"138.5,-0.5 138.5,-36.5 \"/>\n<text text-anchor=\"middle\" x=\"192.5\" y=\"-14.8\" font-family=\"Times,serif\" font-size=\"14.00\">grad &#45;1.5000</text>\n</g>\n<!-- 140125824094880&#45;&gt;140125824092096* -->\n<g id=\"edge6\" class=\"edge\">\n<title>140125824094880&#45;&gt;140125824092096*</title>\n<path fill=\"none\" stroke=\"black\" d=\"M214.42,-36.55C226.15,-39.54 237.93,-42.87 249,-46.5 259.46,-49.93 270.57,-54.47 280.46,-58.84\"/>\n<polygon fill=\"black\" stroke=\"black\" points=\"279.31,-62.17 289.87,-63.12 282.21,-55.79 279.31,-62.17\"/>\n</g>\n<!-- 140125824094400 -->\n<g id=\"node6\" class=\"node\">\n<title>140125824094400</title>\n<polygon fill=\"none\" stroke=\"black\" points=\"2.5,-110.5 2.5,-146.5 246.5,-146.5 246.5,-110.5 2.5,-110.5\"/>\n<text text-anchor=\"middle\" x=\"21.5\" y=\"-124.8\" font-family=\"Times,serif\" font-size=\"14.00\">w2</text>\n<polyline fill=\"none\" stroke=\"black\" points=\"40.5,-110.5 40.5,-146.5 \"/>\n<text text-anchor=\"middle\" x=\"91.5\" y=\"-124.8\" font-family=\"Times,serif\" font-size=\"14.00\">data 1.0000</text>\n<polyline fill=\"none\" stroke=\"black\" points=\"142.5,-110.5 142.5,-146.5 \"/>\n<text text-anchor=\"middle\" x=\"194.5\" y=\"-124.8\" font-family=\"Times,serif\" font-size=\"14.00\">grad 0.0000</text>\n</g>\n<!-- 140125824094400&#45;&gt;140125824091952* -->\n<g id=\"edge7\" class=\"edge\">\n<title>140125824094400&#45;&gt;140125824091952*</title>\n<path fill=\"none\" stroke=\"black\" d=\"M246.64,-128.5C256.7,-128.5 266.26,-128.5 274.79,-128.5\"/>\n<polygon fill=\"black\" stroke=\"black\" points=\"275,-132 285,-128.5 275,-125 275,-132\"/>\n</g>\n<!-- 140125824091952 -->\n<g id=\"node7\" class=\"node\">\n<title>140125824091952</title>\n<polygon fill=\"none\" stroke=\"black\" points=\"377.5,-110.5 377.5,-146.5 638.5,-146.5 638.5,-110.5 377.5,-110.5\"/>\n<text text-anchor=\"middle\" x=\"405\" y=\"-124.8\" font-family=\"Times,serif\" font-size=\"14.00\">x2w2</text>\n<polyline fill=\"none\" stroke=\"black\" points=\"432.5,-110.5 432.5,-146.5 \"/>\n<text text-anchor=\"middle\" x=\"483.5\" y=\"-124.8\" font-family=\"Times,serif\" font-size=\"14.00\">data 0.0000</text>\n<polyline fill=\"none\" stroke=\"black\" points=\"534.5,-110.5 534.5,-146.5 \"/>\n<text text-anchor=\"middle\" x=\"586.5\" y=\"-124.8\" font-family=\"Times,serif\" font-size=\"14.00\">grad 0.5000</text>\n</g>\n<!-- 140125824105824+ -->\n<g id=\"node10\" class=\"node\">\n<title>140125824105824+</title>\n<ellipse fill=\"none\" stroke=\"black\" cx=\"704\" cy=\"-100.5\" rx=\"27\" ry=\"18\"/>\n<text text-anchor=\"middle\" x=\"704\" y=\"-96.8\" font-family=\"Times,serif\" font-size=\"14.00\">+</text>\n</g>\n<!-- 140125824091952&#45;&gt;140125824105824+ -->\n<g id=\"edge10\" class=\"edge\">\n<title>140125824091952&#45;&gt;140125824105824+</title>\n<path fill=\"none\" stroke=\"black\" d=\"M633.78,-110.49C645.77,-108.76 657.15,-107.12 667.08,-105.68\"/>\n<polygon fill=\"black\" stroke=\"black\" points=\"667.86,-109.11 677.25,-104.22 666.86,-102.18 667.86,-109.11\"/>\n</g>\n<!-- 140125824091952*&#45;&gt;140125824091952 -->\n<g id=\"edge2\" class=\"edge\">\n<title>140125824091952*&#45;&gt;140125824091952</title>\n<path fill=\"none\" stroke=\"black\" d=\"M339.16,-128.5C347.24,-128.5 356.75,-128.5 367.07,-128.5\"/>\n<polygon fill=\"black\" stroke=\"black\" points=\"367.2,-132 377.2,-128.5 367.2,-125 367.2,-132\"/>\n</g>\n<!-- 140125824105824 -->\n<g id=\"node9\" class=\"node\">\n<title>140125824105824</title>\n<polygon fill=\"none\" stroke=\"black\" points=\"767,-82.5 767,-118.5 1092,-118.5 1092,-82.5 767,-82.5\"/>\n<text text-anchor=\"middle\" x=\"824\" y=\"-96.8\" font-family=\"Times,serif\" font-size=\"14.00\">x1w1 + x2w2</text>\n<polyline fill=\"none\" stroke=\"black\" points=\"881,-82.5 881,-118.5 \"/>\n<text text-anchor=\"middle\" x=\"934.5\" y=\"-96.8\" font-family=\"Times,serif\" font-size=\"14.00\">data &#45;6.0000</text>\n<polyline fill=\"none\" stroke=\"black\" points=\"988,-82.5 988,-118.5 \"/>\n<text text-anchor=\"middle\" x=\"1040\" y=\"-96.8\" font-family=\"Times,serif\" font-size=\"14.00\">grad 0.5000</text>\n</g>\n<!-- 140125824105824&#45;&gt;140125824093344+ -->\n<g id=\"edge12\" class=\"edge\">\n<title>140125824105824&#45;&gt;140125824093344+</title>\n<path fill=\"none\" stroke=\"black\" d=\"M1074.26,-82.49C1090.41,-80.47 1105.59,-78.56 1118.28,-76.97\"/>\n<polygon fill=\"black\" stroke=\"black\" points=\"1118.84,-80.43 1128.32,-75.72 1117.96,-73.49 1118.84,-80.43\"/>\n</g>\n<!-- 140125824105824+&#45;&gt;140125824105824 -->\n<g id=\"edge3\" class=\"edge\">\n<title>140125824105824+&#45;&gt;140125824105824</title>\n<path fill=\"none\" stroke=\"black\" d=\"M731.08,-100.5C738.51,-100.5 747.21,-100.5 756.74,-100.5\"/>\n<polygon fill=\"black\" stroke=\"black\" points=\"756.95,-104 766.95,-100.5 756.95,-97 756.95,-104\"/>\n</g>\n<!-- 140125824101744 -->\n<g id=\"node11\" class=\"node\">\n<title>140125824101744</title>\n<polygon fill=\"none\" stroke=\"black\" points=\"813.5,-27.5 813.5,-63.5 1045.5,-63.5 1045.5,-27.5 813.5,-27.5\"/>\n<text text-anchor=\"middle\" x=\"826.5\" y=\"-41.8\" font-family=\"Times,serif\" font-size=\"14.00\">b</text>\n<polyline fill=\"none\" stroke=\"black\" points=\"839.5,-27.5 839.5,-63.5 \"/>\n<text text-anchor=\"middle\" x=\"890.5\" y=\"-41.8\" font-family=\"Times,serif\" font-size=\"14.00\">data 6.8814</text>\n<polyline fill=\"none\" stroke=\"black\" points=\"941.5,-27.5 941.5,-63.5 \"/>\n<text text-anchor=\"middle\" x=\"993.5\" y=\"-41.8\" font-family=\"Times,serif\" font-size=\"14.00\">grad 0.5000</text>\n</g>\n<!-- 140125824101744&#45;&gt;140125824093344+ -->\n<g id=\"edge13\" class=\"edge\">\n<title>140125824101744&#45;&gt;140125824093344+</title>\n<path fill=\"none\" stroke=\"black\" d=\"M1045.52,-59.4C1071.82,-62.57 1097.87,-65.72 1117.85,-68.13\"/>\n<polygon fill=\"black\" stroke=\"black\" points=\"1117.65,-71.63 1128,-69.36 1118.49,-64.68 1117.65,-71.63\"/>\n</g>\n<!-- 140125824093584 -->\n<g id=\"node12\" class=\"node\">\n<title>140125824093584</title>\n<polygon fill=\"none\" stroke=\"black\" points=\"1585.69,-54.5 1585.69,-90.5 1816.69,-90.5 1816.69,-54.5 1585.69,-54.5\"/>\n<text text-anchor=\"middle\" x=\"1598.19\" y=\"-68.8\" font-family=\"Times,serif\" font-size=\"14.00\">o</text>\n<polyline fill=\"none\" stroke=\"black\" points=\"1610.69,-54.5 1610.69,-90.5 \"/>\n<text text-anchor=\"middle\" x=\"1661.69\" y=\"-68.8\" font-family=\"Times,serif\" font-size=\"14.00\">data 0.7071</text>\n<polyline fill=\"none\" stroke=\"black\" points=\"1712.69,-54.5 1712.69,-90.5 \"/>\n<text text-anchor=\"middle\" x=\"1764.69\" y=\"-68.8\" font-family=\"Times,serif\" font-size=\"14.00\">grad 1.0000</text>\n</g>\n<!-- 140125824093584tanh&#45;&gt;140125824093584 -->\n<g id=\"edge4\" class=\"edge\">\n<title>140125824093584tanh&#45;&gt;140125824093584</title>\n<path fill=\"none\" stroke=\"black\" d=\"M1550.02,-72.5C1557.61,-72.5 1566.19,-72.5 1575.31,-72.5\"/>\n<polygon fill=\"black\" stroke=\"black\" points=\"1575.4,-76 1585.4,-72.5 1575.4,-69 1575.4,-76\"/>\n</g>\n<!-- 140125824092096 -->\n<g id=\"node14\" class=\"node\">\n<title>140125824092096</title>\n<polygon fill=\"none\" stroke=\"black\" points=\"375,-55.5 375,-91.5 641,-91.5 641,-55.5 375,-55.5\"/>\n<text text-anchor=\"middle\" x=\"402.5\" y=\"-69.8\" font-family=\"Times,serif\" font-size=\"14.00\">x1w1</text>\n<polyline fill=\"none\" stroke=\"black\" points=\"430,-55.5 430,-91.5 \"/>\n<text text-anchor=\"middle\" x=\"483.5\" y=\"-69.8\" font-family=\"Times,serif\" font-size=\"14.00\">data &#45;6.0000</text>\n<polyline fill=\"none\" stroke=\"black\" points=\"537,-55.5 537,-91.5 \"/>\n<text text-anchor=\"middle\" x=\"589\" y=\"-69.8\" font-family=\"Times,serif\" font-size=\"14.00\">grad 0.5000</text>\n</g>\n<!-- 140125824092096&#45;&gt;140125824105824+ -->\n<g id=\"edge8\" class=\"edge\">\n<title>140125824092096&#45;&gt;140125824105824+</title>\n<path fill=\"none\" stroke=\"black\" d=\"M638.4,-91.51C648.78,-92.95 658.6,-94.32 667.3,-95.53\"/>\n<polygon fill=\"black\" stroke=\"black\" points=\"666.94,-99.01 677.32,-96.93 667.9,-92.08 666.94,-99.01\"/>\n</g>\n<!-- 140125824092096*&#45;&gt;140125824092096 -->\n<g id=\"edge5\" class=\"edge\">\n<title>140125824092096*&#45;&gt;140125824092096</title>\n<path fill=\"none\" stroke=\"black\" d=\"M339.16,-73.5C346.61,-73.5 355.28,-73.5 364.68,-73.5\"/>\n<polygon fill=\"black\" stroke=\"black\" points=\"364.73,-77 374.73,-73.5 364.73,-70 364.73,-77\"/>\n</g>\n</g>\n</svg>\n",
      "text/plain": [
       "<graphviz.graphs.Digraph at 0x7f7195f83e80>"
      ]
     },
     "execution_count": 6,
     "metadata": {},
     "output_type": "execute_result"
    }
   ],
   "source": [
    "draw_dot(o)"
   ]
  },
  {
   "cell_type": "code",
   "execution_count": 28,
   "metadata": {},
   "outputs": [],
   "source": [
    "o.grad = 1.0"
   ]
  },
  {
   "cell_type": "code",
   "execution_count": 29,
   "metadata": {},
   "outputs": [],
   "source": [
    "o._backward()\n",
    "n._backward()\n",
    "b._backward()\n",
    "x1w1x2w2._backward()\n",
    "x1w1._backward()\n",
    "x2w2._backward()"
   ]
  },
  {
   "cell_type": "markdown",
   "metadata": {},
   "source": [
    "Topological sort"
   ]
  },
  {
   "cell_type": "code",
   "execution_count": 7,
   "metadata": {},
   "outputs": [],
   "source": [
    "o.grad = 1.0\n",
    "\n",
    "topo = []\n",
    "visited = set()\n",
    "\n",
    "def build_topo(v):\n",
    "    if v not in visited:\n",
    "        visited.add(v)\n",
    "    \n",
    "        for child in v._prev:\n",
    "            build_topo(child)\n",
    "\n",
    "        topo.append(v)\n",
    "\n",
    "build_topo(o)\n",
    "\n",
    "for node in reversed(topo):\n",
    "    node._backward()"
   ]
  },
  {
   "cell_type": "code",
   "execution_count": 8,
   "metadata": {},
   "outputs": [
    {
     "data": {
      "text/plain": [
       "[Value(data=0.0),\n",
       " Value(data=1.0),\n",
       " Value(data=0.0),\n",
       " Value(data=2.0),\n",
       " Value(data=-3.0),\n",
       " Value(data=-6.0),\n",
       " Value(data=-6.0),\n",
       " Value(data=6.881373587019543),\n",
       " Value(data=0.8813735870195432),\n",
       " Value(data=0.7071067811865476)]"
      ]
     },
     "execution_count": 8,
     "metadata": {},
     "output_type": "execute_result"
    }
   ],
   "source": [
    "topo"
   ]
  },
  {
   "cell_type": "code",
   "execution_count": 32,
   "metadata": {},
   "outputs": [
    {
     "data": {
      "image/svg+xml": "<?xml version=\"1.0\" encoding=\"UTF-8\" standalone=\"no\"?>\n<!DOCTYPE svg PUBLIC \"-//W3C//DTD SVG 1.1//EN\"\n \"http://www.w3.org/Graphics/SVG/1.1/DTD/svg11.dtd\">\n<!-- Generated by graphviz version 2.43.0 (0)\n -->\n<!-- Title: %3 Pages: 1 -->\n<svg width=\"1825pt\" height=\"210pt\"\n viewBox=\"0.00 0.00 1824.69 210.00\" xmlns=\"http://www.w3.org/2000/svg\" xmlns:xlink=\"http://www.w3.org/1999/xlink\">\n<g id=\"graph0\" class=\"graph\" transform=\"scale(1 1) rotate(0) translate(4 206)\">\n<title>%3</title>\n<polygon fill=\"white\" stroke=\"transparent\" points=\"-4,4 -4,-206 1820.69,-206 1820.69,4 -4,4\"/>\n<!-- 139771763173424 -->\n<g id=\"node1\" class=\"node\">\n<title>139771763173424</title>\n<polygon fill=\"none\" stroke=\"black\" points=\"767,-82.5 767,-118.5 1092,-118.5 1092,-82.5 767,-82.5\"/>\n<text text-anchor=\"middle\" x=\"824\" y=\"-96.8\" font-family=\"Times,serif\" font-size=\"14.00\">x1w1 + x2w2</text>\n<polyline fill=\"none\" stroke=\"black\" points=\"881,-82.5 881,-118.5 \"/>\n<text text-anchor=\"middle\" x=\"934.5\" y=\"-96.8\" font-family=\"Times,serif\" font-size=\"14.00\">data &#45;6.0000</text>\n<polyline fill=\"none\" stroke=\"black\" points=\"988,-82.5 988,-118.5 \"/>\n<text text-anchor=\"middle\" x=\"1040\" y=\"-96.8\" font-family=\"Times,serif\" font-size=\"14.00\">grad 0.5000</text>\n</g>\n<!-- 139771763174480+ -->\n<g id=\"node6\" class=\"node\">\n<title>139771763174480+</title>\n<ellipse fill=\"none\" stroke=\"black\" cx=\"1155\" cy=\"-127.5\" rx=\"27\" ry=\"18\"/>\n<text text-anchor=\"middle\" x=\"1155\" y=\"-123.8\" font-family=\"Times,serif\" font-size=\"14.00\">+</text>\n</g>\n<!-- 139771763173424&#45;&gt;139771763174480+ -->\n<g id=\"edge7\" class=\"edge\">\n<title>139771763173424&#45;&gt;139771763174480+</title>\n<path fill=\"none\" stroke=\"black\" d=\"M1079.58,-118.51C1093.66,-120.21 1106.84,-121.8 1118.09,-123.16\"/>\n<polygon fill=\"black\" stroke=\"black\" points=\"1117.89,-126.66 1128.24,-124.39 1118.73,-119.71 1117.89,-126.66\"/>\n</g>\n<!-- 139771763173424+ -->\n<g id=\"node2\" class=\"node\">\n<title>139771763173424+</title>\n<ellipse fill=\"none\" stroke=\"black\" cx=\"704\" cy=\"-100.5\" rx=\"27\" ry=\"18\"/>\n<text text-anchor=\"middle\" x=\"704\" y=\"-96.8\" font-family=\"Times,serif\" font-size=\"14.00\">+</text>\n</g>\n<!-- 139771763173424+&#45;&gt;139771763173424 -->\n<g id=\"edge1\" class=\"edge\">\n<title>139771763173424+&#45;&gt;139771763173424</title>\n<path fill=\"none\" stroke=\"black\" d=\"M731.08,-100.5C738.51,-100.5 747.21,-100.5 756.74,-100.5\"/>\n<polygon fill=\"black\" stroke=\"black\" points=\"756.95,-104 766.95,-100.5 756.95,-97 756.95,-104\"/>\n</g>\n<!-- 139771797403200 -->\n<g id=\"node3\" class=\"node\">\n<title>139771797403200</title>\n<polygon fill=\"none\" stroke=\"black\" points=\"375,-110.5 375,-146.5 641,-146.5 641,-110.5 375,-110.5\"/>\n<text text-anchor=\"middle\" x=\"402.5\" y=\"-124.8\" font-family=\"Times,serif\" font-size=\"14.00\">x1w1</text>\n<polyline fill=\"none\" stroke=\"black\" points=\"430,-110.5 430,-146.5 \"/>\n<text text-anchor=\"middle\" x=\"483.5\" y=\"-124.8\" font-family=\"Times,serif\" font-size=\"14.00\">data &#45;6.0000</text>\n<polyline fill=\"none\" stroke=\"black\" points=\"537,-110.5 537,-146.5 \"/>\n<text text-anchor=\"middle\" x=\"589\" y=\"-124.8\" font-family=\"Times,serif\" font-size=\"14.00\">grad 0.5000</text>\n</g>\n<!-- 139771797403200&#45;&gt;139771763173424+ -->\n<g id=\"edge14\" class=\"edge\">\n<title>139771797403200&#45;&gt;139771763173424+</title>\n<path fill=\"none\" stroke=\"black\" d=\"M633.78,-110.49C645.77,-108.76 657.15,-107.12 667.08,-105.68\"/>\n<polygon fill=\"black\" stroke=\"black\" points=\"667.86,-109.11 677.25,-104.22 666.86,-102.18 667.86,-109.11\"/>\n</g>\n<!-- 139771797403200* -->\n<g id=\"node4\" class=\"node\">\n<title>139771797403200*</title>\n<ellipse fill=\"none\" stroke=\"black\" cx=\"312\" cy=\"-128.5\" rx=\"27\" ry=\"18\"/>\n<text text-anchor=\"middle\" x=\"312\" y=\"-124.8\" font-family=\"Times,serif\" font-size=\"14.00\">*</text>\n</g>\n<!-- 139771797403200*&#45;&gt;139771797403200 -->\n<g id=\"edge2\" class=\"edge\">\n<title>139771797403200*&#45;&gt;139771797403200</title>\n<path fill=\"none\" stroke=\"black\" d=\"M339.16,-128.5C346.61,-128.5 355.28,-128.5 364.68,-128.5\"/>\n<polygon fill=\"black\" stroke=\"black\" points=\"364.73,-132 374.73,-128.5 364.73,-125 364.73,-132\"/>\n</g>\n<!-- 139771763174480 -->\n<g id=\"node5\" class=\"node\">\n<title>139771763174480</title>\n<polygon fill=\"none\" stroke=\"black\" points=\"1218,-109.5 1218,-145.5 1450,-145.5 1450,-109.5 1218,-109.5\"/>\n<text text-anchor=\"middle\" x=\"1231\" y=\"-123.8\" font-family=\"Times,serif\" font-size=\"14.00\">n</text>\n<polyline fill=\"none\" stroke=\"black\" points=\"1244,-109.5 1244,-145.5 \"/>\n<text text-anchor=\"middle\" x=\"1295\" y=\"-123.8\" font-family=\"Times,serif\" font-size=\"14.00\">data 0.8814</text>\n<polyline fill=\"none\" stroke=\"black\" points=\"1346,-109.5 1346,-145.5 \"/>\n<text text-anchor=\"middle\" x=\"1398\" y=\"-123.8\" font-family=\"Times,serif\" font-size=\"14.00\">grad 0.5000</text>\n</g>\n<!-- 139771763176256tanh -->\n<g id=\"node14\" class=\"node\">\n<title>139771763176256tanh</title>\n<ellipse fill=\"none\" stroke=\"black\" cx=\"1517.85\" cy=\"-127.5\" rx=\"31.7\" ry=\"18\"/>\n<text text-anchor=\"middle\" x=\"1517.85\" y=\"-123.8\" font-family=\"Times,serif\" font-size=\"14.00\">tanh</text>\n</g>\n<!-- 139771763174480&#45;&gt;139771763176256tanh -->\n<g id=\"edge13\" class=\"edge\">\n<title>139771763174480&#45;&gt;139771763176256tanh</title>\n<path fill=\"none\" stroke=\"black\" d=\"M1450.17,-127.5C1459.08,-127.5 1467.66,-127.5 1475.53,-127.5\"/>\n<polygon fill=\"black\" stroke=\"black\" points=\"1475.78,-131 1485.78,-127.5 1475.78,-124 1475.78,-131\"/>\n</g>\n<!-- 139771763174480+&#45;&gt;139771763174480 -->\n<g id=\"edge3\" class=\"edge\">\n<title>139771763174480+&#45;&gt;139771763174480</title>\n<path fill=\"none\" stroke=\"black\" d=\"M1182.12,-127.5C1189.53,-127.5 1198.14,-127.5 1207.4,-127.5\"/>\n<polygon fill=\"black\" stroke=\"black\" points=\"1207.69,-131 1217.69,-127.5 1207.69,-124 1207.69,-131\"/>\n</g>\n<!-- 139771762642080 -->\n<g id=\"node7\" class=\"node\">\n<title>139771762642080</title>\n<polygon fill=\"none\" stroke=\"black\" points=\"813.5,-137.5 813.5,-173.5 1045.5,-173.5 1045.5,-137.5 813.5,-137.5\"/>\n<text text-anchor=\"middle\" x=\"826.5\" y=\"-151.8\" font-family=\"Times,serif\" font-size=\"14.00\">b</text>\n<polyline fill=\"none\" stroke=\"black\" points=\"839.5,-137.5 839.5,-173.5 \"/>\n<text text-anchor=\"middle\" x=\"890.5\" y=\"-151.8\" font-family=\"Times,serif\" font-size=\"14.00\">data 6.8814</text>\n<polyline fill=\"none\" stroke=\"black\" points=\"941.5,-137.5 941.5,-173.5 \"/>\n<text text-anchor=\"middle\" x=\"993.5\" y=\"-151.8\" font-family=\"Times,serif\" font-size=\"14.00\">grad 0.5000</text>\n</g>\n<!-- 139771762642080&#45;&gt;139771763174480+ -->\n<g id=\"edge11\" class=\"edge\">\n<title>139771762642080&#45;&gt;139771763174480+</title>\n<path fill=\"none\" stroke=\"black\" d=\"M1045.52,-141.09C1072,-137.77 1098.23,-134.49 1118.26,-131.98\"/>\n<polygon fill=\"black\" stroke=\"black\" points=\"1118.94,-135.42 1128.43,-130.7 1118.07,-128.47 1118.94,-135.42\"/>\n</g>\n<!-- 139771763175632 -->\n<g id=\"node8\" class=\"node\">\n<title>139771763175632</title>\n<polygon fill=\"none\" stroke=\"black\" points=\"377.5,-55.5 377.5,-91.5 638.5,-91.5 638.5,-55.5 377.5,-55.5\"/>\n<text text-anchor=\"middle\" x=\"405\" y=\"-69.8\" font-family=\"Times,serif\" font-size=\"14.00\">x2w2</text>\n<polyline fill=\"none\" stroke=\"black\" points=\"432.5,-55.5 432.5,-91.5 \"/>\n<text text-anchor=\"middle\" x=\"483.5\" y=\"-69.8\" font-family=\"Times,serif\" font-size=\"14.00\">data 0.0000</text>\n<polyline fill=\"none\" stroke=\"black\" points=\"534.5,-55.5 534.5,-91.5 \"/>\n<text text-anchor=\"middle\" x=\"586.5\" y=\"-69.8\" font-family=\"Times,serif\" font-size=\"14.00\">grad 0.5000</text>\n</g>\n<!-- 139771763175632&#45;&gt;139771763173424+ -->\n<g id=\"edge9\" class=\"edge\">\n<title>139771763175632&#45;&gt;139771763173424+</title>\n<path fill=\"none\" stroke=\"black\" d=\"M638.4,-91.51C648.78,-92.95 658.6,-94.32 667.3,-95.53\"/>\n<polygon fill=\"black\" stroke=\"black\" points=\"666.94,-99.01 677.32,-96.93 667.9,-92.08 666.94,-99.01\"/>\n</g>\n<!-- 139771763175632* -->\n<g id=\"node9\" class=\"node\">\n<title>139771763175632*</title>\n<ellipse fill=\"none\" stroke=\"black\" cx=\"312\" cy=\"-73.5\" rx=\"27\" ry=\"18\"/>\n<text text-anchor=\"middle\" x=\"312\" y=\"-69.8\" font-family=\"Times,serif\" font-size=\"14.00\">*</text>\n</g>\n<!-- 139771763175632*&#45;&gt;139771763175632 -->\n<g id=\"edge4\" class=\"edge\">\n<title>139771763175632*&#45;&gt;139771763175632</title>\n<path fill=\"none\" stroke=\"black\" d=\"M339.16,-73.5C347.24,-73.5 356.75,-73.5 367.07,-73.5\"/>\n<polygon fill=\"black\" stroke=\"black\" points=\"367.2,-77 377.2,-73.5 367.2,-70 367.2,-77\"/>\n</g>\n<!-- 139771762642128 -->\n<g id=\"node10\" class=\"node\">\n<title>139771762642128</title>\n<polygon fill=\"none\" stroke=\"black\" points=\"2.5,-55.5 2.5,-91.5 246.5,-91.5 246.5,-55.5 2.5,-55.5\"/>\n<text text-anchor=\"middle\" x=\"21.5\" y=\"-69.8\" font-family=\"Times,serif\" font-size=\"14.00\">w2</text>\n<polyline fill=\"none\" stroke=\"black\" points=\"40.5,-55.5 40.5,-91.5 \"/>\n<text text-anchor=\"middle\" x=\"91.5\" y=\"-69.8\" font-family=\"Times,serif\" font-size=\"14.00\">data 1.0000</text>\n<polyline fill=\"none\" stroke=\"black\" points=\"142.5,-55.5 142.5,-91.5 \"/>\n<text text-anchor=\"middle\" x=\"194.5\" y=\"-69.8\" font-family=\"Times,serif\" font-size=\"14.00\">grad 0.0000</text>\n</g>\n<!-- 139771762642128&#45;&gt;139771763175632* -->\n<g id=\"edge6\" class=\"edge\">\n<title>139771762642128&#45;&gt;139771763175632*</title>\n<path fill=\"none\" stroke=\"black\" d=\"M246.64,-73.5C256.7,-73.5 266.26,-73.5 274.79,-73.5\"/>\n<polygon fill=\"black\" stroke=\"black\" points=\"275,-77 285,-73.5 275,-70 275,-77\"/>\n</g>\n<!-- 139771762642176 -->\n<g id=\"node11\" class=\"node\">\n<title>139771762642176</title>\n<polygon fill=\"none\" stroke=\"black\" points=\"0,-165.5 0,-201.5 249,-201.5 249,-165.5 0,-165.5\"/>\n<text text-anchor=\"middle\" x=\"19\" y=\"-179.8\" font-family=\"Times,serif\" font-size=\"14.00\">w1</text>\n<polyline fill=\"none\" stroke=\"black\" points=\"38,-165.5 38,-201.5 \"/>\n<text text-anchor=\"middle\" x=\"91.5\" y=\"-179.8\" font-family=\"Times,serif\" font-size=\"14.00\">data &#45;3.0000</text>\n<polyline fill=\"none\" stroke=\"black\" points=\"145,-165.5 145,-201.5 \"/>\n<text text-anchor=\"middle\" x=\"197\" y=\"-179.8\" font-family=\"Times,serif\" font-size=\"14.00\">grad 1.0000</text>\n</g>\n<!-- 139771762642176&#45;&gt;139771797403200* -->\n<g id=\"edge10\" class=\"edge\">\n<title>139771762642176&#45;&gt;139771797403200*</title>\n<path fill=\"none\" stroke=\"black\" d=\"M218.13,-165.46C228.63,-162.77 239.1,-159.78 249,-156.5 259.71,-152.96 271.05,-148.16 281.07,-143.54\"/>\n<polygon fill=\"black\" stroke=\"black\" points=\"282.67,-146.66 290.2,-139.21 279.67,-140.33 282.67,-146.66\"/>\n</g>\n<!-- 139771762652976 -->\n<g id=\"node12\" class=\"node\">\n<title>139771762652976</title>\n<polygon fill=\"none\" stroke=\"black\" points=\"2.5,-110.5 2.5,-146.5 246.5,-146.5 246.5,-110.5 2.5,-110.5\"/>\n<text text-anchor=\"middle\" x=\"19.5\" y=\"-124.8\" font-family=\"Times,serif\" font-size=\"14.00\">x1</text>\n<polyline fill=\"none\" stroke=\"black\" points=\"36.5,-110.5 36.5,-146.5 \"/>\n<text text-anchor=\"middle\" x=\"87.5\" y=\"-124.8\" font-family=\"Times,serif\" font-size=\"14.00\">data 2.0000</text>\n<polyline fill=\"none\" stroke=\"black\" points=\"138.5,-110.5 138.5,-146.5 \"/>\n<text text-anchor=\"middle\" x=\"192.5\" y=\"-124.8\" font-family=\"Times,serif\" font-size=\"14.00\">grad &#45;1.5000</text>\n</g>\n<!-- 139771762652976&#45;&gt;139771797403200* -->\n<g id=\"edge12\" class=\"edge\">\n<title>139771762652976&#45;&gt;139771797403200*</title>\n<path fill=\"none\" stroke=\"black\" d=\"M246.64,-128.5C256.7,-128.5 266.26,-128.5 274.79,-128.5\"/>\n<polygon fill=\"black\" stroke=\"black\" points=\"275,-132 285,-128.5 275,-125 275,-132\"/>\n</g>\n<!-- 139771763176256 -->\n<g id=\"node13\" class=\"node\">\n<title>139771763176256</title>\n<polygon fill=\"none\" stroke=\"black\" points=\"1585.69,-109.5 1585.69,-145.5 1816.69,-145.5 1816.69,-109.5 1585.69,-109.5\"/>\n<text text-anchor=\"middle\" x=\"1598.19\" y=\"-123.8\" font-family=\"Times,serif\" font-size=\"14.00\">o</text>\n<polyline fill=\"none\" stroke=\"black\" points=\"1610.69,-109.5 1610.69,-145.5 \"/>\n<text text-anchor=\"middle\" x=\"1661.69\" y=\"-123.8\" font-family=\"Times,serif\" font-size=\"14.00\">data 0.7071</text>\n<polyline fill=\"none\" stroke=\"black\" points=\"1712.69,-109.5 1712.69,-145.5 \"/>\n<text text-anchor=\"middle\" x=\"1764.69\" y=\"-123.8\" font-family=\"Times,serif\" font-size=\"14.00\">grad 1.0000</text>\n</g>\n<!-- 139771763176256tanh&#45;&gt;139771763176256 -->\n<g id=\"edge5\" class=\"edge\">\n<title>139771763176256tanh&#45;&gt;139771763176256</title>\n<path fill=\"none\" stroke=\"black\" d=\"M1550.02,-127.5C1557.61,-127.5 1566.19,-127.5 1575.31,-127.5\"/>\n<polygon fill=\"black\" stroke=\"black\" points=\"1575.4,-131 1585.4,-127.5 1575.4,-124 1575.4,-131\"/>\n</g>\n<!-- 139771797988176 -->\n<g id=\"node15\" class=\"node\">\n<title>139771797988176</title>\n<polygon fill=\"none\" stroke=\"black\" points=\"4.5,-0.5 4.5,-36.5 244.5,-36.5 244.5,-0.5 4.5,-0.5\"/>\n<text text-anchor=\"middle\" x=\"21.5\" y=\"-14.8\" font-family=\"Times,serif\" font-size=\"14.00\">x2</text>\n<polyline fill=\"none\" stroke=\"black\" points=\"38.5,-0.5 38.5,-36.5 \"/>\n<text text-anchor=\"middle\" x=\"89.5\" y=\"-14.8\" font-family=\"Times,serif\" font-size=\"14.00\">data 0.0000</text>\n<polyline fill=\"none\" stroke=\"black\" points=\"140.5,-0.5 140.5,-36.5 \"/>\n<text text-anchor=\"middle\" x=\"192.5\" y=\"-14.8\" font-family=\"Times,serif\" font-size=\"14.00\">grad 0.5000</text>\n</g>\n<!-- 139771797988176&#45;&gt;139771763175632* -->\n<g id=\"edge8\" class=\"edge\">\n<title>139771797988176&#45;&gt;139771763175632*</title>\n<path fill=\"none\" stroke=\"black\" d=\"M214.42,-36.55C226.15,-39.54 237.93,-42.87 249,-46.5 259.46,-49.93 270.57,-54.47 280.46,-58.84\"/>\n<polygon fill=\"black\" stroke=\"black\" points=\"279.31,-62.17 289.87,-63.12 282.21,-55.79 279.31,-62.17\"/>\n</g>\n</g>\n</svg>\n",
      "text/plain": [
       "<graphviz.graphs.Digraph at 0x7f1f26433580>"
      ]
     },
     "execution_count": 32,
     "metadata": {},
     "output_type": "execute_result"
    }
   ],
   "source": [
    "draw_dot(o)"
   ]
  },
  {
   "cell_type": "markdown",
   "metadata": {},
   "source": [
    "One node is used multiple times bug !"
   ]
  },
  {
   "cell_type": "code",
   "execution_count": 47,
   "metadata": {},
   "outputs": [],
   "source": [
    "a = Value(3.0, label=\"a\")\n",
    "b = a+a\n",
    "b.label = \"b\""
   ]
  },
  {
   "cell_type": "code",
   "execution_count": 48,
   "metadata": {},
   "outputs": [],
   "source": [
    "b.backward()"
   ]
  },
  {
   "cell_type": "code",
   "execution_count": 49,
   "metadata": {},
   "outputs": [
    {
     "data": {
      "image/svg+xml": "<?xml version=\"1.0\" encoding=\"UTF-8\" standalone=\"no\"?>\n<!DOCTYPE svg PUBLIC \"-//W3C//DTD SVG 1.1//EN\"\n \"http://www.w3.org/Graphics/SVG/1.1/DTD/svg11.dtd\">\n<!-- Generated by graphviz version 2.43.0 (0)\n -->\n<!-- Title: %3 Pages: 1 -->\n<svg width=\"597pt\" height=\"45pt\"\n viewBox=\"0.00 0.00 597.00 45.00\" xmlns=\"http://www.w3.org/2000/svg\" xmlns:xlink=\"http://www.w3.org/1999/xlink\">\n<g id=\"graph0\" class=\"graph\" transform=\"scale(1 1) rotate(0) translate(4 41)\">\n<title>%3</title>\n<polygon fill=\"white\" stroke=\"transparent\" points=\"-4,4 -4,-41 593,-41 593,4 -4,4\"/>\n<!-- 139772872619776 -->\n<g id=\"node1\" class=\"node\">\n<title>139772872619776</title>\n<polygon fill=\"none\" stroke=\"black\" points=\"0,-0.5 0,-36.5 231,-36.5 231,-0.5 0,-0.5\"/>\n<text text-anchor=\"middle\" x=\"12.5\" y=\"-14.8\" font-family=\"Times,serif\" font-size=\"14.00\">a</text>\n<polyline fill=\"none\" stroke=\"black\" points=\"25,-0.5 25,-36.5 \"/>\n<text text-anchor=\"middle\" x=\"76\" y=\"-14.8\" font-family=\"Times,serif\" font-size=\"14.00\">data 3.0000</text>\n<polyline fill=\"none\" stroke=\"black\" points=\"127,-0.5 127,-36.5 \"/>\n<text text-anchor=\"middle\" x=\"179\" y=\"-14.8\" font-family=\"Times,serif\" font-size=\"14.00\">grad 2.0000</text>\n</g>\n<!-- 139771763176544+ -->\n<g id=\"node3\" class=\"node\">\n<title>139771763176544+</title>\n<ellipse fill=\"none\" stroke=\"black\" cx=\"294\" cy=\"-18.5\" rx=\"27\" ry=\"18\"/>\n<text text-anchor=\"middle\" x=\"294\" y=\"-14.8\" font-family=\"Times,serif\" font-size=\"14.00\">+</text>\n</g>\n<!-- 139772872619776&#45;&gt;139771763176544+ -->\n<g id=\"edge2\" class=\"edge\">\n<title>139772872619776&#45;&gt;139771763176544+</title>\n<path fill=\"none\" stroke=\"black\" d=\"M231.27,-18.5C240.32,-18.5 248.97,-18.5 256.76,-18.5\"/>\n<polygon fill=\"black\" stroke=\"black\" points=\"256.84,-22 266.84,-18.5 256.84,-15 256.84,-22\"/>\n</g>\n<!-- 139771763176544 -->\n<g id=\"node2\" class=\"node\">\n<title>139771763176544</title>\n<polygon fill=\"none\" stroke=\"black\" points=\"357,-0.5 357,-36.5 589,-36.5 589,-0.5 357,-0.5\"/>\n<text text-anchor=\"middle\" x=\"370\" y=\"-14.8\" font-family=\"Times,serif\" font-size=\"14.00\">b</text>\n<polyline fill=\"none\" stroke=\"black\" points=\"383,-0.5 383,-36.5 \"/>\n<text text-anchor=\"middle\" x=\"434\" y=\"-14.8\" font-family=\"Times,serif\" font-size=\"14.00\">data 6.0000</text>\n<polyline fill=\"none\" stroke=\"black\" points=\"485,-0.5 485,-36.5 \"/>\n<text text-anchor=\"middle\" x=\"537\" y=\"-14.8\" font-family=\"Times,serif\" font-size=\"14.00\">grad 1.0000</text>\n</g>\n<!-- 139771763176544+&#45;&gt;139771763176544 -->\n<g id=\"edge1\" class=\"edge\">\n<title>139771763176544+&#45;&gt;139771763176544</title>\n<path fill=\"none\" stroke=\"black\" d=\"M321.12,-18.5C328.53,-18.5 337.14,-18.5 346.4,-18.5\"/>\n<polygon fill=\"black\" stroke=\"black\" points=\"346.69,-22 356.69,-18.5 346.69,-15 346.69,-22\"/>\n</g>\n</g>\n</svg>\n",
      "text/plain": [
       "<graphviz.graphs.Digraph at 0x7f1f26430a60>"
      ]
     },
     "execution_count": 49,
     "metadata": {},
     "output_type": "execute_result"
    }
   ],
   "source": [
    "draw_dot(b)"
   ]
  },
  {
   "cell_type": "markdown",
   "metadata": {},
   "source": [
    "Another example of the bug!"
   ]
  },
  {
   "cell_type": "code",
   "execution_count": 50,
   "metadata": {},
   "outputs": [],
   "source": [
    "a = Value(-2.0, label=\"a\")\n",
    "b = Value(3.0, label=\"b\")\n",
    "d = a*b\n",
    "e = a+b\n",
    "f = d*e\n",
    "\n",
    "d.label = \"d\"\n",
    "e.label = \"e\"\n",
    "f.label = \"f\""
   ]
  },
  {
   "cell_type": "code",
   "execution_count": 51,
   "metadata": {},
   "outputs": [],
   "source": [
    "f.backward()"
   ]
  },
  {
   "cell_type": "code",
   "execution_count": 52,
   "metadata": {},
   "outputs": [
    {
     "data": {
      "image/svg+xml": "<?xml version=\"1.0\" encoding=\"UTF-8\" standalone=\"no\"?>\n<!DOCTYPE svg PUBLIC \"-//W3C//DTD SVG 1.1//EN\"\n \"http://www.w3.org/Graphics/SVG/1.1/DTD/svg11.dtd\">\n<!-- Generated by graphviz version 2.43.0 (0)\n -->\n<!-- Title: %3 Pages: 1 -->\n<svg width=\"970pt\" height=\"100pt\"\n viewBox=\"0.00 0.00 970.00 100.00\" xmlns=\"http://www.w3.org/2000/svg\" xmlns:xlink=\"http://www.w3.org/1999/xlink\">\n<g id=\"graph0\" class=\"graph\" transform=\"scale(1 1) rotate(0) translate(4 96)\">\n<title>%3</title>\n<polygon fill=\"white\" stroke=\"transparent\" points=\"-4,4 -4,-96 966,-96 966,4 -4,4\"/>\n<!-- 139772427439120 -->\n<g id=\"node1\" class=\"node\">\n<title>139772427439120</title>\n<polygon fill=\"none\" stroke=\"black\" points=\"0,-55.5 0,-91.5 240,-91.5 240,-55.5 0,-55.5\"/>\n<text text-anchor=\"middle\" x=\"12.5\" y=\"-69.8\" font-family=\"Times,serif\" font-size=\"14.00\">a</text>\n<polyline fill=\"none\" stroke=\"black\" points=\"25,-55.5 25,-91.5 \"/>\n<text text-anchor=\"middle\" x=\"78.5\" y=\"-69.8\" font-family=\"Times,serif\" font-size=\"14.00\">data &#45;2.0000</text>\n<polyline fill=\"none\" stroke=\"black\" points=\"132,-55.5 132,-91.5 \"/>\n<text text-anchor=\"middle\" x=\"186\" y=\"-69.8\" font-family=\"Times,serif\" font-size=\"14.00\">grad &#45;3.0000</text>\n</g>\n<!-- 139771763172320* -->\n<g id=\"node6\" class=\"node\">\n<title>139771763172320*</title>\n<ellipse fill=\"none\" stroke=\"black\" cx=\"303\" cy=\"-73.5\" rx=\"27\" ry=\"18\"/>\n<text text-anchor=\"middle\" x=\"303\" y=\"-69.8\" font-family=\"Times,serif\" font-size=\"14.00\">*</text>\n</g>\n<!-- 139772427439120&#45;&gt;139771763172320* -->\n<g id=\"edge7\" class=\"edge\">\n<title>139772427439120&#45;&gt;139771763172320*</title>\n<path fill=\"none\" stroke=\"black\" d=\"M240.22,-73.5C249.32,-73.5 257.99,-73.5 265.8,-73.5\"/>\n<polygon fill=\"black\" stroke=\"black\" points=\"265.88,-77 275.88,-73.5 265.88,-70 265.88,-77\"/>\n</g>\n<!-- 139771763178992+ -->\n<g id=\"node8\" class=\"node\">\n<title>139771763178992+</title>\n<ellipse fill=\"none\" stroke=\"black\" cx=\"303\" cy=\"-18.5\" rx=\"27\" ry=\"18\"/>\n<text text-anchor=\"middle\" x=\"303\" y=\"-14.8\" font-family=\"Times,serif\" font-size=\"14.00\">+</text>\n</g>\n<!-- 139772427439120&#45;&gt;139771763178992+ -->\n<g id=\"edge9\" class=\"edge\">\n<title>139772427439120&#45;&gt;139771763178992+</title>\n<path fill=\"none\" stroke=\"black\" d=\"M209.61,-55.48C219.94,-52.77 230.26,-49.77 240,-46.5 250.69,-42.91 262.03,-38.11 272.05,-33.49\"/>\n<polygon fill=\"black\" stroke=\"black\" points=\"273.65,-36.61 281.19,-29.17 270.65,-30.28 273.65,-36.61\"/>\n</g>\n<!-- 139771762887360 -->\n<g id=\"node2\" class=\"node\">\n<title>139771762887360</title>\n<polygon fill=\"none\" stroke=\"black\" points=\"2,-0.5 2,-36.5 238,-36.5 238,-0.5 2,-0.5\"/>\n<text text-anchor=\"middle\" x=\"15\" y=\"-14.8\" font-family=\"Times,serif\" font-size=\"14.00\">b</text>\n<polyline fill=\"none\" stroke=\"black\" points=\"28,-0.5 28,-36.5 \"/>\n<text text-anchor=\"middle\" x=\"79\" y=\"-14.8\" font-family=\"Times,serif\" font-size=\"14.00\">data 3.0000</text>\n<polyline fill=\"none\" stroke=\"black\" points=\"130,-0.5 130,-36.5 \"/>\n<text text-anchor=\"middle\" x=\"184\" y=\"-14.8\" font-family=\"Times,serif\" font-size=\"14.00\">grad &#45;8.0000</text>\n</g>\n<!-- 139771762887360&#45;&gt;139771763172320* -->\n<g id=\"edge8\" class=\"edge\">\n<title>139771762887360&#45;&gt;139771763172320*</title>\n<path fill=\"none\" stroke=\"black\" d=\"M206.03,-36.54C217.54,-39.55 229.12,-42.88 240,-46.5 250.44,-49.97 261.55,-54.52 271.44,-58.89\"/>\n<polygon fill=\"black\" stroke=\"black\" points=\"270.3,-62.22 280.85,-63.16 273.19,-55.84 270.3,-62.22\"/>\n</g>\n<!-- 139771762887360&#45;&gt;139771763178992+ -->\n<g id=\"edge6\" class=\"edge\">\n<title>139771762887360&#45;&gt;139771763178992+</title>\n<path fill=\"none\" stroke=\"black\" d=\"M238.19,-18.5C248.03,-18.5 257.41,-18.5 265.8,-18.5\"/>\n<polygon fill=\"black\" stroke=\"black\" points=\"265.87,-22 275.87,-18.5 265.87,-15 265.87,-22\"/>\n</g>\n<!-- 139771763173664 -->\n<g id=\"node3\" class=\"node\">\n<title>139771763173664</title>\n<polygon fill=\"none\" stroke=\"black\" points=\"729,-27.5 729,-63.5 962,-63.5 962,-27.5 729,-27.5\"/>\n<text text-anchor=\"middle\" x=\"740\" y=\"-41.8\" font-family=\"Times,serif\" font-size=\"14.00\">f</text>\n<polyline fill=\"none\" stroke=\"black\" points=\"751,-27.5 751,-63.5 \"/>\n<text text-anchor=\"middle\" x=\"804.5\" y=\"-41.8\" font-family=\"Times,serif\" font-size=\"14.00\">data &#45;6.0000</text>\n<polyline fill=\"none\" stroke=\"black\" points=\"858,-27.5 858,-63.5 \"/>\n<text text-anchor=\"middle\" x=\"910\" y=\"-41.8\" font-family=\"Times,serif\" font-size=\"14.00\">grad 1.0000</text>\n</g>\n<!-- 139771763173664* -->\n<g id=\"node4\" class=\"node\">\n<title>139771763173664*</title>\n<ellipse fill=\"none\" stroke=\"black\" cx=\"666\" cy=\"-45.5\" rx=\"27\" ry=\"18\"/>\n<text text-anchor=\"middle\" x=\"666\" y=\"-41.8\" font-family=\"Times,serif\" font-size=\"14.00\">*</text>\n</g>\n<!-- 139771763173664*&#45;&gt;139771763173664 -->\n<g id=\"edge1\" class=\"edge\">\n<title>139771763173664*&#45;&gt;139771763173664</title>\n<path fill=\"none\" stroke=\"black\" d=\"M693.19,-45.5C700.71,-45.5 709.44,-45.5 718.84,-45.5\"/>\n<polygon fill=\"black\" stroke=\"black\" points=\"718.87,-49 728.87,-45.5 718.87,-42 718.87,-49\"/>\n</g>\n<!-- 139771763172320 -->\n<g id=\"node5\" class=\"node\">\n<title>139771763172320</title>\n<polygon fill=\"none\" stroke=\"black\" points=\"366,-55.5 366,-91.5 603,-91.5 603,-55.5 366,-55.5\"/>\n<text text-anchor=\"middle\" x=\"379\" y=\"-69.8\" font-family=\"Times,serif\" font-size=\"14.00\">d</text>\n<polyline fill=\"none\" stroke=\"black\" points=\"392,-55.5 392,-91.5 \"/>\n<text text-anchor=\"middle\" x=\"445.5\" y=\"-69.8\" font-family=\"Times,serif\" font-size=\"14.00\">data &#45;6.0000</text>\n<polyline fill=\"none\" stroke=\"black\" points=\"499,-55.5 499,-91.5 \"/>\n<text text-anchor=\"middle\" x=\"551\" y=\"-69.8\" font-family=\"Times,serif\" font-size=\"14.00\">grad 1.0000</text>\n</g>\n<!-- 139771763172320&#45;&gt;139771763173664* -->\n<g id=\"edge5\" class=\"edge\">\n<title>139771763172320&#45;&gt;139771763173664*</title>\n<path fill=\"none\" stroke=\"black\" d=\"M600.96,-55.49C611.12,-53.91 620.8,-52.4 629.41,-51.05\"/>\n<polygon fill=\"black\" stroke=\"black\" points=\"630.02,-54.5 639.36,-49.5 628.94,-47.58 630.02,-54.5\"/>\n</g>\n<!-- 139771763172320*&#45;&gt;139771763172320 -->\n<g id=\"edge2\" class=\"edge\">\n<title>139771763172320*&#45;&gt;139771763172320</title>\n<path fill=\"none\" stroke=\"black\" d=\"M330.1,-73.5C337.61,-73.5 346.33,-73.5 355.75,-73.5\"/>\n<polygon fill=\"black\" stroke=\"black\" points=\"355.78,-77 365.78,-73.5 355.78,-70 355.78,-77\"/>\n</g>\n<!-- 139771763178992 -->\n<g id=\"node7\" class=\"node\">\n<title>139771763178992</title>\n<polygon fill=\"none\" stroke=\"black\" points=\"367,-0.5 367,-36.5 602,-36.5 602,-0.5 367,-0.5\"/>\n<text text-anchor=\"middle\" x=\"379.5\" y=\"-14.8\" font-family=\"Times,serif\" font-size=\"14.00\">e</text>\n<polyline fill=\"none\" stroke=\"black\" points=\"392,-0.5 392,-36.5 \"/>\n<text text-anchor=\"middle\" x=\"443\" y=\"-14.8\" font-family=\"Times,serif\" font-size=\"14.00\">data 1.0000</text>\n<polyline fill=\"none\" stroke=\"black\" points=\"494,-0.5 494,-36.5 \"/>\n<text text-anchor=\"middle\" x=\"548\" y=\"-14.8\" font-family=\"Times,serif\" font-size=\"14.00\">grad &#45;6.0000</text>\n</g>\n<!-- 139771763178992&#45;&gt;139771763173664* -->\n<g id=\"edge4\" class=\"edge\">\n<title>139771763178992&#45;&gt;139771763173664*</title>\n<path fill=\"none\" stroke=\"black\" d=\"M602.22,-36.06C611.92,-37.52 621.15,-38.9 629.41,-40.15\"/>\n<polygon fill=\"black\" stroke=\"black\" points=\"628.9,-43.61 639.31,-41.64 629.94,-36.69 628.9,-43.61\"/>\n</g>\n<!-- 139771763178992+&#45;&gt;139771763178992 -->\n<g id=\"edge3\" class=\"edge\">\n<title>139771763178992+&#45;&gt;139771763178992</title>\n<path fill=\"none\" stroke=\"black\" d=\"M330.1,-18.5C337.9,-18.5 347.03,-18.5 356.87,-18.5\"/>\n<polygon fill=\"black\" stroke=\"black\" points=\"356.93,-22 366.93,-18.5 356.93,-15 356.93,-22\"/>\n</g>\n</g>\n</svg>\n",
      "text/plain": [
       "<graphviz.graphs.Digraph at 0x7f1f264b24a0>"
      ]
     },
     "execution_count": 52,
     "metadata": {},
     "output_type": "execute_result"
    }
   ],
   "source": [
    "draw_dot(f)"
   ]
  },
  {
   "cell_type": "markdown",
   "metadata": {},
   "source": [
    "Using exp to derive tanh"
   ]
  },
  {
   "cell_type": "code",
   "execution_count": 89,
   "metadata": {},
   "outputs": [],
   "source": [
    "# inputs x1, x2\n",
    "x1 = Value(2.0, label=\"x1\")\n",
    "x2 = Value(0.0, label=\"x2\")\n",
    "\n",
    "# weights w1, w2\n",
    "w1 = Value(-3.0, label=\"w1\")\n",
    "w2 = Value(1.0, label=\"w2\")\n",
    "\n",
    "# bias of the neuron\n",
    "b = Value(6.8813735870195432, label=\"b\")\n",
    "\n",
    "# x1w1 + x2w2 + b\n",
    "x1w1 = x1 * w1; x1w1.label = \"x1w1\"\n",
    "x2w2 = x2 * w2; x2w2.label = \"x2w2\"\n",
    "x1w1x2w2 = x1w1 + x2w2; x1w1x2w2.label = \"x1w1 + x2w2\"\n",
    "n = x1w1x2w2 + b; n.label = \"n\"\n",
    "\n",
    "e = (2*n).exp()\n",
    "o = (e-1)/(e+1)\n",
    "o.label = \"o\"\n",
    "e.label = \"e\"\n",
    "o.backward()"
   ]
  },
  {
   "cell_type": "code",
   "execution_count": 90,
   "metadata": {},
   "outputs": [
    {
     "data": {
      "image/svg+xml": "<?xml version=\"1.0\" encoding=\"UTF-8\" standalone=\"no\"?>\n<!DOCTYPE svg PUBLIC \"-//W3C//DTD SVG 1.1//EN\"\n \"http://www.w3.org/Graphics/SVG/1.1/DTD/svg11.dtd\">\n<!-- Generated by graphviz version 2.43.0 (0)\n -->\n<!-- Title: %3 Pages: 1 -->\n<svg width=\"3410pt\" height=\"236pt\"\n viewBox=\"0.00 0.00 3409.60 236.00\" xmlns=\"http://www.w3.org/2000/svg\" xmlns:xlink=\"http://www.w3.org/1999/xlink\">\n<g id=\"graph0\" class=\"graph\" transform=\"scale(1 1) rotate(0) translate(4 232)\">\n<title>%3</title>\n<polygon fill=\"white\" stroke=\"transparent\" points=\"-4,4 -4,-232 3405.6,-232 3405.6,4 -4,4\"/>\n<!-- 139771762646016 -->\n<g id=\"node1\" class=\"node\">\n<title>139771762646016</title>\n<polygon fill=\"none\" stroke=\"black\" points=\"1220.5,-164.5 1220.5,-200.5 1447.5,-200.5 1447.5,-164.5 1220.5,-164.5\"/>\n<text text-anchor=\"middle\" x=\"1231\" y=\"-178.8\" font-family=\"Times,serif\" font-size=\"14.00\"> </text>\n<polyline fill=\"none\" stroke=\"black\" points=\"1241.5,-164.5 1241.5,-200.5 \"/>\n<text text-anchor=\"middle\" x=\"1292.5\" y=\"-178.8\" font-family=\"Times,serif\" font-size=\"14.00\">data 2.0000</text>\n<polyline fill=\"none\" stroke=\"black\" points=\"1343.5,-164.5 1343.5,-200.5 \"/>\n<text text-anchor=\"middle\" x=\"1395.5\" y=\"-178.8\" font-family=\"Times,serif\" font-size=\"14.00\">grad 0.2203</text>\n</g>\n<!-- 139771762645392* -->\n<g id=\"node24\" class=\"node\">\n<title>139771762645392*</title>\n<ellipse fill=\"none\" stroke=\"black\" cx=\"1513\" cy=\"-154.5\" rx=\"27\" ry=\"18\"/>\n<text text-anchor=\"middle\" x=\"1513\" y=\"-150.8\" font-family=\"Times,serif\" font-size=\"14.00\">*</text>\n</g>\n<!-- 139771762646016&#45;&gt;139771762645392* -->\n<g id=\"edge14\" class=\"edge\">\n<title>139771762646016&#45;&gt;139771762645392*</title>\n<path fill=\"none\" stroke=\"black\" d=\"M1447.6,-164.69C1457.87,-163.06 1467.68,-161.51 1476.4,-160.13\"/>\n<polygon fill=\"black\" stroke=\"black\" points=\"1477.14,-163.56 1486.47,-158.54 1476.04,-156.64 1477.14,-163.56\"/>\n</g>\n<!-- 139771762645008 -->\n<g id=\"node2\" class=\"node\">\n<title>139771762645008</title>\n<polygon fill=\"none\" stroke=\"black\" points=\"4.5,-55.5 4.5,-91.5 244.5,-91.5 244.5,-55.5 4.5,-55.5\"/>\n<text text-anchor=\"middle\" x=\"21.5\" y=\"-69.8\" font-family=\"Times,serif\" font-size=\"14.00\">x2</text>\n<polyline fill=\"none\" stroke=\"black\" points=\"38.5,-55.5 38.5,-91.5 \"/>\n<text text-anchor=\"middle\" x=\"89.5\" y=\"-69.8\" font-family=\"Times,serif\" font-size=\"14.00\">data 0.0000</text>\n<polyline fill=\"none\" stroke=\"black\" points=\"140.5,-55.5 140.5,-91.5 \"/>\n<text text-anchor=\"middle\" x=\"192.5\" y=\"-69.8\" font-family=\"Times,serif\" font-size=\"14.00\">grad 0.5000</text>\n</g>\n<!-- 139771762644864* -->\n<g id=\"node22\" class=\"node\">\n<title>139771762644864*</title>\n<ellipse fill=\"none\" stroke=\"black\" cx=\"312\" cy=\"-73.5\" rx=\"27\" ry=\"18\"/>\n<text text-anchor=\"middle\" x=\"312\" y=\"-69.8\" font-family=\"Times,serif\" font-size=\"14.00\">*</text>\n</g>\n<!-- 139771762645008&#45;&gt;139771762644864* -->\n<g id=\"edge15\" class=\"edge\">\n<title>139771762645008&#45;&gt;139771762644864*</title>\n<path fill=\"none\" stroke=\"black\" d=\"M244.55,-73.5C255.31,-73.5 265.54,-73.5 274.62,-73.5\"/>\n<polygon fill=\"black\" stroke=\"black\" points=\"274.7,-77 284.7,-73.5 274.7,-70 274.7,-77\"/>\n</g>\n<!-- 139771762642944 -->\n<g id=\"node3\" class=\"node\">\n<title>139771762642944</title>\n<polygon fill=\"none\" stroke=\"black\" points=\"0,-165.5 0,-201.5 249,-201.5 249,-165.5 0,-165.5\"/>\n<text text-anchor=\"middle\" x=\"19\" y=\"-179.8\" font-family=\"Times,serif\" font-size=\"14.00\">w1</text>\n<polyline fill=\"none\" stroke=\"black\" points=\"38,-165.5 38,-201.5 \"/>\n<text text-anchor=\"middle\" x=\"91.5\" y=\"-179.8\" font-family=\"Times,serif\" font-size=\"14.00\">data &#45;3.0000</text>\n<polyline fill=\"none\" stroke=\"black\" points=\"145,-165.5 145,-201.5 \"/>\n<text text-anchor=\"middle\" x=\"197\" y=\"-179.8\" font-family=\"Times,serif\" font-size=\"14.00\">grad 1.0000</text>\n</g>\n<!-- 139771762641456* -->\n<g id=\"node5\" class=\"node\">\n<title>139771762641456*</title>\n<ellipse fill=\"none\" stroke=\"black\" cx=\"312\" cy=\"-128.5\" rx=\"27\" ry=\"18\"/>\n<text text-anchor=\"middle\" x=\"312\" y=\"-124.8\" font-family=\"Times,serif\" font-size=\"14.00\">*</text>\n</g>\n<!-- 139771762642944&#45;&gt;139771762641456* -->\n<g id=\"edge24\" class=\"edge\">\n<title>139771762642944&#45;&gt;139771762641456*</title>\n<path fill=\"none\" stroke=\"black\" d=\"M218.13,-165.46C228.63,-162.77 239.1,-159.78 249,-156.5 259.71,-152.96 271.05,-148.16 281.07,-143.54\"/>\n<polygon fill=\"black\" stroke=\"black\" points=\"282.67,-146.66 290.2,-139.21 279.67,-140.33 282.67,-146.66\"/>\n</g>\n<!-- 139771762641456 -->\n<g id=\"node4\" class=\"node\">\n<title>139771762641456</title>\n<polygon fill=\"none\" stroke=\"black\" points=\"375,-110.5 375,-146.5 641,-146.5 641,-110.5 375,-110.5\"/>\n<text text-anchor=\"middle\" x=\"402.5\" y=\"-124.8\" font-family=\"Times,serif\" font-size=\"14.00\">x1w1</text>\n<polyline fill=\"none\" stroke=\"black\" points=\"430,-110.5 430,-146.5 \"/>\n<text text-anchor=\"middle\" x=\"483.5\" y=\"-124.8\" font-family=\"Times,serif\" font-size=\"14.00\">data &#45;6.0000</text>\n<polyline fill=\"none\" stroke=\"black\" points=\"537,-110.5 537,-146.5 \"/>\n<text text-anchor=\"middle\" x=\"589\" y=\"-124.8\" font-family=\"Times,serif\" font-size=\"14.00\">grad 0.5000</text>\n</g>\n<!-- 139771762652496+ -->\n<g id=\"node20\" class=\"node\">\n<title>139771762652496+</title>\n<ellipse fill=\"none\" stroke=\"black\" cx=\"704\" cy=\"-100.5\" rx=\"27\" ry=\"18\"/>\n<text text-anchor=\"middle\" x=\"704\" y=\"-96.8\" font-family=\"Times,serif\" font-size=\"14.00\">+</text>\n</g>\n<!-- 139771762641456&#45;&gt;139771762652496+ -->\n<g id=\"edge28\" class=\"edge\">\n<title>139771762641456&#45;&gt;139771762652496+</title>\n<path fill=\"none\" stroke=\"black\" d=\"M633.78,-110.49C645.77,-108.76 657.15,-107.12 667.08,-105.68\"/>\n<polygon fill=\"black\" stroke=\"black\" points=\"667.86,-109.11 677.25,-104.22 666.86,-102.18 667.86,-109.11\"/>\n</g>\n<!-- 139771762641456*&#45;&gt;139771762641456 -->\n<g id=\"edge1\" class=\"edge\">\n<title>139771762641456*&#45;&gt;139771762641456</title>\n<path fill=\"none\" stroke=\"black\" d=\"M339.16,-128.5C346.61,-128.5 355.28,-128.5 364.68,-128.5\"/>\n<polygon fill=\"black\" stroke=\"black\" points=\"364.73,-132 374.73,-128.5 364.73,-125 364.73,-132\"/>\n</g>\n<!-- 139771762639440 -->\n<g id=\"node6\" class=\"node\">\n<title>139771762639440</title>\n<polygon fill=\"none\" stroke=\"black\" points=\"2817.6,-161.5 2817.6,-197.5 3044.6,-197.5 3044.6,-161.5 2817.6,-161.5\"/>\n<text text-anchor=\"middle\" x=\"2828.1\" y=\"-175.8\" font-family=\"Times,serif\" font-size=\"14.00\"> </text>\n<polyline fill=\"none\" stroke=\"black\" points=\"2838.6,-161.5 2838.6,-197.5 \"/>\n<text text-anchor=\"middle\" x=\"2889.6\" y=\"-175.8\" font-family=\"Times,serif\" font-size=\"14.00\">data 0.1464</text>\n<polyline fill=\"none\" stroke=\"black\" points=\"2940.6,-161.5 2940.6,-197.5 \"/>\n<text text-anchor=\"middle\" x=\"2992.6\" y=\"-175.8\" font-family=\"Times,serif\" font-size=\"14.00\">grad 4.8284</text>\n</g>\n<!-- 139771797402768* -->\n<g id=\"node12\" class=\"node\">\n<title>139771797402768*</title>\n<ellipse fill=\"none\" stroke=\"black\" cx=\"3107.6\" cy=\"-153.5\" rx=\"27\" ry=\"18\"/>\n<text text-anchor=\"middle\" x=\"3107.6\" y=\"-149.8\" font-family=\"Times,serif\" font-size=\"14.00\">*</text>\n</g>\n<!-- 139771762639440&#45;&gt;139771797402768* -->\n<g id=\"edge12\" class=\"edge\">\n<title>139771762639440&#45;&gt;139771797402768*</title>\n<path fill=\"none\" stroke=\"black\" d=\"M3045.07,-162.67C3054.37,-161.28 3063.23,-159.96 3071.2,-158.77\"/>\n<polygon fill=\"black\" stroke=\"black\" points=\"3071.73,-162.23 3081.1,-157.3 3070.7,-155.31 3071.73,-162.23\"/>\n</g>\n<!-- 139771762639440**&#45;1 -->\n<g id=\"node7\" class=\"node\">\n<title>139771762639440**&#45;1</title>\n<ellipse fill=\"none\" stroke=\"black\" cx=\"2668.1\" cy=\"-181.5\" rx=\"28.7\" ry=\"18\"/>\n<text text-anchor=\"middle\" x=\"2668.1\" y=\"-177.8\" font-family=\"Times,serif\" font-size=\"14.00\">**&#45;1</text>\n</g>\n<!-- 139771762639440**&#45;1&#45;&gt;139771762639440 -->\n<g id=\"edge2\" class=\"edge\">\n<title>139771762639440**&#45;1&#45;&gt;139771762639440</title>\n<path fill=\"none\" stroke=\"black\" d=\"M2697.03,-181.29C2723.75,-181.08 2765.99,-180.76 2807.21,-180.44\"/>\n<polygon fill=\"black\" stroke=\"black\" points=\"2807.4,-183.94 2817.37,-180.36 2807.35,-176.94 2807.4,-183.94\"/>\n</g>\n<!-- 139771762644048 -->\n<g id=\"node8\" class=\"node\">\n<title>139771762644048</title>\n<polygon fill=\"none\" stroke=\"black\" points=\"2.5,-110.5 2.5,-146.5 246.5,-146.5 246.5,-110.5 2.5,-110.5\"/>\n<text text-anchor=\"middle\" x=\"19.5\" y=\"-124.8\" font-family=\"Times,serif\" font-size=\"14.00\">x1</text>\n<polyline fill=\"none\" stroke=\"black\" points=\"36.5,-110.5 36.5,-146.5 \"/>\n<text text-anchor=\"middle\" x=\"87.5\" y=\"-124.8\" font-family=\"Times,serif\" font-size=\"14.00\">data 2.0000</text>\n<polyline fill=\"none\" stroke=\"black\" points=\"138.5,-110.5 138.5,-146.5 \"/>\n<text text-anchor=\"middle\" x=\"192.5\" y=\"-124.8\" font-family=\"Times,serif\" font-size=\"14.00\">grad &#45;1.5000</text>\n</g>\n<!-- 139771762644048&#45;&gt;139771762641456* -->\n<g id=\"edge23\" class=\"edge\">\n<title>139771762644048&#45;&gt;139771762641456*</title>\n<path fill=\"none\" stroke=\"black\" d=\"M246.64,-128.5C256.7,-128.5 266.26,-128.5 274.79,-128.5\"/>\n<polygon fill=\"black\" stroke=\"black\" points=\"275,-132 285,-128.5 275,-125 275,-132\"/>\n</g>\n<!-- 139771762638960 -->\n<g id=\"node9\" class=\"node\">\n<title>139771762638960</title>\n<polygon fill=\"none\" stroke=\"black\" points=\"1218,-109.5 1218,-145.5 1450,-145.5 1450,-109.5 1218,-109.5\"/>\n<text text-anchor=\"middle\" x=\"1231\" y=\"-123.8\" font-family=\"Times,serif\" font-size=\"14.00\">n</text>\n<polyline fill=\"none\" stroke=\"black\" points=\"1244,-109.5 1244,-145.5 \"/>\n<text text-anchor=\"middle\" x=\"1295\" y=\"-123.8\" font-family=\"Times,serif\" font-size=\"14.00\">data 0.8814</text>\n<polyline fill=\"none\" stroke=\"black\" points=\"1346,-109.5 1346,-145.5 \"/>\n<text text-anchor=\"middle\" x=\"1398\" y=\"-123.8\" font-family=\"Times,serif\" font-size=\"14.00\">grad 0.5000</text>\n</g>\n<!-- 139771762638960&#45;&gt;139771762645392* -->\n<g id=\"edge27\" class=\"edge\">\n<title>139771762638960&#45;&gt;139771762645392*</title>\n<path fill=\"none\" stroke=\"black\" d=\"M1450.09,-145.06C1459.46,-146.49 1468.39,-147.85 1476.4,-149.07\"/>\n<polygon fill=\"black\" stroke=\"black\" points=\"1475.96,-152.54 1486.37,-150.59 1477.01,-145.62 1475.96,-152.54\"/>\n</g>\n<!-- 139771762638960+ -->\n<g id=\"node10\" class=\"node\">\n<title>139771762638960+</title>\n<ellipse fill=\"none\" stroke=\"black\" cx=\"1155\" cy=\"-127.5\" rx=\"27\" ry=\"18\"/>\n<text text-anchor=\"middle\" x=\"1155\" y=\"-123.8\" font-family=\"Times,serif\" font-size=\"14.00\">+</text>\n</g>\n<!-- 139771762638960+&#45;&gt;139771762638960 -->\n<g id=\"edge3\" class=\"edge\">\n<title>139771762638960+&#45;&gt;139771762638960</title>\n<path fill=\"none\" stroke=\"black\" d=\"M1182.12,-127.5C1189.53,-127.5 1198.14,-127.5 1207.4,-127.5\"/>\n<polygon fill=\"black\" stroke=\"black\" points=\"1207.69,-131 1217.69,-127.5 1207.69,-124 1207.69,-131\"/>\n</g>\n<!-- 139771797402768 -->\n<g id=\"node11\" class=\"node\">\n<title>139771797402768</title>\n<polygon fill=\"none\" stroke=\"black\" points=\"3170.6,-135.5 3170.6,-171.5 3401.6,-171.5 3401.6,-135.5 3170.6,-135.5\"/>\n<text text-anchor=\"middle\" x=\"3183.1\" y=\"-149.8\" font-family=\"Times,serif\" font-size=\"14.00\">o</text>\n<polyline fill=\"none\" stroke=\"black\" points=\"3195.6,-135.5 3195.6,-171.5 \"/>\n<text text-anchor=\"middle\" x=\"3246.6\" y=\"-149.8\" font-family=\"Times,serif\" font-size=\"14.00\">data 0.7071</text>\n<polyline fill=\"none\" stroke=\"black\" points=\"3297.6,-135.5 3297.6,-171.5 \"/>\n<text text-anchor=\"middle\" x=\"3349.6\" y=\"-149.8\" font-family=\"Times,serif\" font-size=\"14.00\">grad 1.0000</text>\n</g>\n<!-- 139771797402768*&#45;&gt;139771797402768 -->\n<g id=\"edge4\" class=\"edge\">\n<title>139771797402768*&#45;&gt;139771797402768</title>\n<path fill=\"none\" stroke=\"black\" d=\"M3134.64,-153.5C3142.18,-153.5 3150.96,-153.5 3160.41,-153.5\"/>\n<polygon fill=\"black\" stroke=\"black\" points=\"3160.49,-157 3170.49,-153.5 3160.49,-150 3160.49,-157\"/>\n</g>\n<!-- 139771762652832 -->\n<g id=\"node13\" class=\"node\">\n<title>139771762652832</title>\n<polygon fill=\"none\" stroke=\"black\" points=\"2287.6,-163.5 2287.6,-199.5 2518.6,-199.5 2518.6,-163.5 2287.6,-163.5\"/>\n<text text-anchor=\"middle\" x=\"2298.1\" y=\"-177.8\" font-family=\"Times,serif\" font-size=\"14.00\"> </text>\n<polyline fill=\"none\" stroke=\"black\" points=\"2308.6,-163.5 2308.6,-199.5 \"/>\n<text text-anchor=\"middle\" x=\"2359.6\" y=\"-177.8\" font-family=\"Times,serif\" font-size=\"14.00\">data 6.8284</text>\n<polyline fill=\"none\" stroke=\"black\" points=\"2410.6,-163.5 2410.6,-199.5 \"/>\n<text text-anchor=\"middle\" x=\"2464.6\" y=\"-177.8\" font-family=\"Times,serif\" font-size=\"14.00\">grad &#45;0.1036</text>\n</g>\n<!-- 139771762652832&#45;&gt;139771762639440**&#45;1 -->\n<g id=\"edge25\" class=\"edge\">\n<title>139771762652832&#45;&gt;139771762639440**&#45;1</title>\n<path fill=\"none\" stroke=\"black\" d=\"M2518.69,-181.5C2558.38,-181.5 2600.17,-181.5 2629.25,-181.5\"/>\n<polygon fill=\"black\" stroke=\"black\" points=\"2629.37,-185 2639.37,-181.5 2629.37,-178 2629.37,-185\"/>\n</g>\n<!-- 139771762652832+ -->\n<g id=\"node14\" class=\"node\">\n<title>139771762652832+</title>\n<ellipse fill=\"none\" stroke=\"black\" cx=\"2224.6\" cy=\"-181.5\" rx=\"27\" ry=\"18\"/>\n<text text-anchor=\"middle\" x=\"2224.6\" y=\"-177.8\" font-family=\"Times,serif\" font-size=\"14.00\">+</text>\n</g>\n<!-- 139771762652832+&#45;&gt;139771762652832 -->\n<g id=\"edge5\" class=\"edge\">\n<title>139771762652832+&#45;&gt;139771762652832</title>\n<path fill=\"none\" stroke=\"black\" d=\"M2251.64,-181.5C2259.18,-181.5 2267.96,-181.5 2277.41,-181.5\"/>\n<polygon fill=\"black\" stroke=\"black\" points=\"2277.49,-185 2287.49,-181.5 2277.49,-178 2277.49,-185\"/>\n</g>\n<!-- 139771762643664 -->\n<g id=\"node15\" class=\"node\">\n<title>139771762643664</title>\n<polygon fill=\"none\" stroke=\"black\" points=\"813.5,-137.5 813.5,-173.5 1045.5,-173.5 1045.5,-137.5 813.5,-137.5\"/>\n<text text-anchor=\"middle\" x=\"826.5\" y=\"-151.8\" font-family=\"Times,serif\" font-size=\"14.00\">b</text>\n<polyline fill=\"none\" stroke=\"black\" points=\"839.5,-137.5 839.5,-173.5 \"/>\n<text text-anchor=\"middle\" x=\"890.5\" y=\"-151.8\" font-family=\"Times,serif\" font-size=\"14.00\">data 6.8814</text>\n<polyline fill=\"none\" stroke=\"black\" points=\"941.5,-137.5 941.5,-173.5 \"/>\n<text text-anchor=\"middle\" x=\"993.5\" y=\"-151.8\" font-family=\"Times,serif\" font-size=\"14.00\">grad 0.5000</text>\n</g>\n<!-- 139771762643664&#45;&gt;139771762638960+ -->\n<g id=\"edge17\" class=\"edge\">\n<title>139771762643664&#45;&gt;139771762638960+</title>\n<path fill=\"none\" stroke=\"black\" d=\"M1045.52,-141.09C1072,-137.77 1098.23,-134.49 1118.26,-131.98\"/>\n<polygon fill=\"black\" stroke=\"black\" points=\"1118.94,-135.42 1128.43,-130.7 1118.07,-128.47 1118.94,-135.42\"/>\n</g>\n<!-- 139771762640592 -->\n<g id=\"node16\" class=\"node\">\n<title>139771762640592</title>\n<polygon fill=\"none\" stroke=\"black\" points=\"2554.6,-108.5 2554.6,-144.5 2781.6,-144.5 2781.6,-108.5 2554.6,-108.5\"/>\n<text text-anchor=\"middle\" x=\"2565.1\" y=\"-122.8\" font-family=\"Times,serif\" font-size=\"14.00\"> </text>\n<polyline fill=\"none\" stroke=\"black\" points=\"2575.6,-108.5 2575.6,-144.5 \"/>\n<text text-anchor=\"middle\" x=\"2626.6\" y=\"-122.8\" font-family=\"Times,serif\" font-size=\"14.00\">data 4.8284</text>\n<polyline fill=\"none\" stroke=\"black\" points=\"2677.6,-108.5 2677.6,-144.5 \"/>\n<text text-anchor=\"middle\" x=\"2729.6\" y=\"-122.8\" font-family=\"Times,serif\" font-size=\"14.00\">grad 0.1464</text>\n</g>\n<!-- 139771762640592&#45;&gt;139771797402768* -->\n<g id=\"edge19\" class=\"edge\">\n<title>139771762640592&#45;&gt;139771797402768*</title>\n<path fill=\"none\" stroke=\"black\" d=\"M2781.76,-133.45C2877.02,-139.33 3007.68,-147.4 3070.28,-151.26\"/>\n<polygon fill=\"black\" stroke=\"black\" points=\"3070.24,-154.76 3080.44,-151.89 3070.68,-147.78 3070.24,-154.76\"/>\n</g>\n<!-- 139771762640592+ -->\n<g id=\"node17\" class=\"node\">\n<title>139771762640592+</title>\n<ellipse fill=\"none\" stroke=\"black\" cx=\"2224.6\" cy=\"-126.5\" rx=\"27\" ry=\"18\"/>\n<text text-anchor=\"middle\" x=\"2224.6\" y=\"-122.8\" font-family=\"Times,serif\" font-size=\"14.00\">+</text>\n</g>\n<!-- 139771762640592+&#45;&gt;139771762640592 -->\n<g id=\"edge6\" class=\"edge\">\n<title>139771762640592+&#45;&gt;139771762640592</title>\n<path fill=\"none\" stroke=\"black\" d=\"M2251.89,-126.5C2308.16,-126.5 2443.31,-126.5 2544.23,-126.5\"/>\n<polygon fill=\"black\" stroke=\"black\" points=\"2544.5,-130 2554.5,-126.5 2544.5,-123 2544.5,-130\"/>\n</g>\n<!-- 139771762643184 -->\n<g id=\"node18\" class=\"node\">\n<title>139771762643184</title>\n<polygon fill=\"none\" stroke=\"black\" points=\"2.5,-0.5 2.5,-36.5 246.5,-36.5 246.5,-0.5 2.5,-0.5\"/>\n<text text-anchor=\"middle\" x=\"21.5\" y=\"-14.8\" font-family=\"Times,serif\" font-size=\"14.00\">w2</text>\n<polyline fill=\"none\" stroke=\"black\" points=\"40.5,-0.5 40.5,-36.5 \"/>\n<text text-anchor=\"middle\" x=\"91.5\" y=\"-14.8\" font-family=\"Times,serif\" font-size=\"14.00\">data 1.0000</text>\n<polyline fill=\"none\" stroke=\"black\" points=\"142.5,-0.5 142.5,-36.5 \"/>\n<text text-anchor=\"middle\" x=\"194.5\" y=\"-14.8\" font-family=\"Times,serif\" font-size=\"14.00\">grad 0.0000</text>\n</g>\n<!-- 139771762643184&#45;&gt;139771762644864* -->\n<g id=\"edge16\" class=\"edge\">\n<title>139771762643184&#45;&gt;139771762644864*</title>\n<path fill=\"none\" stroke=\"black\" d=\"M218.13,-36.54C228.63,-39.23 239.1,-42.22 249,-45.5 259.71,-49.04 271.05,-53.84 281.07,-58.46\"/>\n<polygon fill=\"black\" stroke=\"black\" points=\"279.67,-61.67 290.2,-62.79 282.67,-55.34 279.67,-61.67\"/>\n</g>\n<!-- 139771762652496 -->\n<g id=\"node19\" class=\"node\">\n<title>139771762652496</title>\n<polygon fill=\"none\" stroke=\"black\" points=\"767,-82.5 767,-118.5 1092,-118.5 1092,-82.5 767,-82.5\"/>\n<text text-anchor=\"middle\" x=\"824\" y=\"-96.8\" font-family=\"Times,serif\" font-size=\"14.00\">x1w1 + x2w2</text>\n<polyline fill=\"none\" stroke=\"black\" points=\"881,-82.5 881,-118.5 \"/>\n<text text-anchor=\"middle\" x=\"934.5\" y=\"-96.8\" font-family=\"Times,serif\" font-size=\"14.00\">data &#45;6.0000</text>\n<polyline fill=\"none\" stroke=\"black\" points=\"988,-82.5 988,-118.5 \"/>\n<text text-anchor=\"middle\" x=\"1040\" y=\"-96.8\" font-family=\"Times,serif\" font-size=\"14.00\">grad 0.5000</text>\n</g>\n<!-- 139771762652496&#45;&gt;139771762638960+ -->\n<g id=\"edge13\" class=\"edge\">\n<title>139771762652496&#45;&gt;139771762638960+</title>\n<path fill=\"none\" stroke=\"black\" d=\"M1079.58,-118.51C1093.66,-120.21 1106.84,-121.8 1118.09,-123.16\"/>\n<polygon fill=\"black\" stroke=\"black\" points=\"1117.89,-126.66 1128.24,-124.39 1118.73,-119.71 1117.89,-126.66\"/>\n</g>\n<!-- 139771762652496+&#45;&gt;139771762652496 -->\n<g id=\"edge7\" class=\"edge\">\n<title>139771762652496+&#45;&gt;139771762652496</title>\n<path fill=\"none\" stroke=\"black\" d=\"M731.08,-100.5C738.51,-100.5 747.21,-100.5 756.74,-100.5\"/>\n<polygon fill=\"black\" stroke=\"black\" points=\"756.95,-104 766.95,-100.5 756.95,-97 756.95,-104\"/>\n</g>\n<!-- 139771762644864 -->\n<g id=\"node21\" class=\"node\">\n<title>139771762644864</title>\n<polygon fill=\"none\" stroke=\"black\" points=\"377.5,-55.5 377.5,-91.5 638.5,-91.5 638.5,-55.5 377.5,-55.5\"/>\n<text text-anchor=\"middle\" x=\"405\" y=\"-69.8\" font-family=\"Times,serif\" font-size=\"14.00\">x2w2</text>\n<polyline fill=\"none\" stroke=\"black\" points=\"432.5,-55.5 432.5,-91.5 \"/>\n<text text-anchor=\"middle\" x=\"483.5\" y=\"-69.8\" font-family=\"Times,serif\" font-size=\"14.00\">data 0.0000</text>\n<polyline fill=\"none\" stroke=\"black\" points=\"534.5,-55.5 534.5,-91.5 \"/>\n<text text-anchor=\"middle\" x=\"586.5\" y=\"-69.8\" font-family=\"Times,serif\" font-size=\"14.00\">grad 0.5000</text>\n</g>\n<!-- 139771762644864&#45;&gt;139771762652496+ -->\n<g id=\"edge11\" class=\"edge\">\n<title>139771762644864&#45;&gt;139771762652496+</title>\n<path fill=\"none\" stroke=\"black\" d=\"M638.4,-91.51C648.78,-92.95 658.6,-94.32 667.3,-95.53\"/>\n<polygon fill=\"black\" stroke=\"black\" points=\"666.94,-99.01 677.32,-96.93 667.9,-92.08 666.94,-99.01\"/>\n</g>\n<!-- 139771762644864*&#45;&gt;139771762644864 -->\n<g id=\"edge8\" class=\"edge\">\n<title>139771762644864*&#45;&gt;139771762644864</title>\n<path fill=\"none\" stroke=\"black\" d=\"M339.16,-73.5C347.24,-73.5 356.75,-73.5 367.07,-73.5\"/>\n<polygon fill=\"black\" stroke=\"black\" points=\"367.2,-77 377.2,-73.5 367.2,-70 367.2,-77\"/>\n</g>\n<!-- 139771762645392 -->\n<g id=\"node23\" class=\"node\">\n<title>139771762645392</title>\n<polygon fill=\"none\" stroke=\"black\" points=\"1576,-136.5 1576,-172.5 1803,-172.5 1803,-136.5 1576,-136.5\"/>\n<text text-anchor=\"middle\" x=\"1586.5\" y=\"-150.8\" font-family=\"Times,serif\" font-size=\"14.00\"> </text>\n<polyline fill=\"none\" stroke=\"black\" points=\"1597,-136.5 1597,-172.5 \"/>\n<text text-anchor=\"middle\" x=\"1648\" y=\"-150.8\" font-family=\"Times,serif\" font-size=\"14.00\">data 1.7627</text>\n<polyline fill=\"none\" stroke=\"black\" points=\"1699,-136.5 1699,-172.5 \"/>\n<text text-anchor=\"middle\" x=\"1751\" y=\"-150.8\" font-family=\"Times,serif\" font-size=\"14.00\">grad 0.2500</text>\n</g>\n<!-- 139771762655184exp -->\n<g id=\"node27\" class=\"node\">\n<title>139771762655184exp</title>\n<ellipse fill=\"none\" stroke=\"black\" cx=\"1866.3\" cy=\"-154.5\" rx=\"27.1\" ry=\"18\"/>\n<text text-anchor=\"middle\" x=\"1866.3\" y=\"-150.8\" font-family=\"Times,serif\" font-size=\"14.00\">exp</text>\n</g>\n<!-- 139771762645392&#45;&gt;139771762655184exp -->\n<g id=\"edge26\" class=\"edge\">\n<title>139771762645392&#45;&gt;139771762655184exp</title>\n<path fill=\"none\" stroke=\"black\" d=\"M1803.18,-154.5C1812.26,-154.5 1820.95,-154.5 1828.79,-154.5\"/>\n<polygon fill=\"black\" stroke=\"black\" points=\"1828.93,-158 1838.93,-154.5 1828.93,-151 1828.93,-158\"/>\n</g>\n<!-- 139771762645392*&#45;&gt;139771762645392 -->\n<g id=\"edge9\" class=\"edge\">\n<title>139771762645392*&#45;&gt;139771762645392</title>\n<path fill=\"none\" stroke=\"black\" d=\"M1540.12,-154.5C1547.67,-154.5 1556.45,-154.5 1565.9,-154.5\"/>\n<polygon fill=\"black\" stroke=\"black\" points=\"1565.95,-158 1575.95,-154.5 1565.95,-151 1565.95,-158\"/>\n</g>\n<!-- 139771762654128 -->\n<g id=\"node25\" class=\"node\">\n<title>139771762654128</title>\n<polygon fill=\"none\" stroke=\"black\" points=\"1930.1,-191.5 1930.1,-227.5 2161.1,-227.5 2161.1,-191.5 1930.1,-191.5\"/>\n<text text-anchor=\"middle\" x=\"1940.6\" y=\"-205.8\" font-family=\"Times,serif\" font-size=\"14.00\"> </text>\n<polyline fill=\"none\" stroke=\"black\" points=\"1951.1,-191.5 1951.1,-227.5 \"/>\n<text text-anchor=\"middle\" x=\"2002.1\" y=\"-205.8\" font-family=\"Times,serif\" font-size=\"14.00\">data 1.0000</text>\n<polyline fill=\"none\" stroke=\"black\" points=\"2053.1,-191.5 2053.1,-227.5 \"/>\n<text text-anchor=\"middle\" x=\"2107.1\" y=\"-205.8\" font-family=\"Times,serif\" font-size=\"14.00\">grad &#45;0.1036</text>\n</g>\n<!-- 139771762654128&#45;&gt;139771762652832+ -->\n<g id=\"edge18\" class=\"edge\">\n<title>139771762654128&#45;&gt;139771762652832+</title>\n<path fill=\"none\" stroke=\"black\" d=\"M2160.69,-191.45C2170.48,-189.9 2179.8,-188.43 2188.14,-187.11\"/>\n<polygon fill=\"black\" stroke=\"black\" points=\"2188.79,-190.55 2198.12,-185.53 2187.69,-183.64 2188.79,-190.55\"/>\n</g>\n<!-- 139771762655184 -->\n<g id=\"node26\" class=\"node\">\n<title>139771762655184</title>\n<polygon fill=\"none\" stroke=\"black\" points=\"1930.1,-136.5 1930.1,-172.5 2161.1,-172.5 2161.1,-136.5 1930.1,-136.5\"/>\n<text text-anchor=\"middle\" x=\"1942.6\" y=\"-150.8\" font-family=\"Times,serif\" font-size=\"14.00\">e</text>\n<polyline fill=\"none\" stroke=\"black\" points=\"1955.1,-136.5 1955.1,-172.5 \"/>\n<text text-anchor=\"middle\" x=\"2006.1\" y=\"-150.8\" font-family=\"Times,serif\" font-size=\"14.00\">data 5.8284</text>\n<polyline fill=\"none\" stroke=\"black\" points=\"2057.1,-136.5 2057.1,-172.5 \"/>\n<text text-anchor=\"middle\" x=\"2109.1\" y=\"-150.8\" font-family=\"Times,serif\" font-size=\"14.00\">grad 0.0429</text>\n</g>\n<!-- 139771762655184&#45;&gt;139771762652832+ -->\n<g id=\"edge20\" class=\"edge\">\n<title>139771762655184&#45;&gt;139771762652832+</title>\n<path fill=\"none\" stroke=\"black\" d=\"M2161.19,-171.98C2170.71,-173.43 2179.79,-174.82 2187.93,-176.06\"/>\n<polygon fill=\"black\" stroke=\"black\" points=\"2187.63,-179.55 2198.04,-177.6 2188.68,-172.63 2187.63,-179.55\"/>\n</g>\n<!-- 139771762655184&#45;&gt;139771762640592+ -->\n<g id=\"edge21\" class=\"edge\">\n<title>139771762655184&#45;&gt;139771762640592+</title>\n<path fill=\"none\" stroke=\"black\" d=\"M2160.69,-136.45C2170.48,-134.9 2179.8,-133.43 2188.14,-132.11\"/>\n<polygon fill=\"black\" stroke=\"black\" points=\"2188.79,-135.55 2198.12,-130.53 2187.69,-128.64 2188.79,-135.55\"/>\n</g>\n<!-- 139771762655184exp&#45;&gt;139771762655184 -->\n<g id=\"edge10\" class=\"edge\">\n<title>139771762655184exp&#45;&gt;139771762655184</title>\n<path fill=\"none\" stroke=\"black\" d=\"M1893.84,-154.5C1901.44,-154.5 1910.26,-154.5 1919.76,-154.5\"/>\n<polygon fill=\"black\" stroke=\"black\" points=\"1919.87,-158 1929.87,-154.5 1919.87,-151 1919.87,-158\"/>\n</g>\n<!-- 139771762642416 -->\n<g id=\"node28\" class=\"node\">\n<title>139771762642416</title>\n<polygon fill=\"none\" stroke=\"black\" points=\"1929.6,-81.5 1929.6,-117.5 2161.6,-117.5 2161.6,-81.5 1929.6,-81.5\"/>\n<text text-anchor=\"middle\" x=\"1940.1\" y=\"-95.8\" font-family=\"Times,serif\" font-size=\"14.00\"> </text>\n<polyline fill=\"none\" stroke=\"black\" points=\"1950.6,-81.5 1950.6,-117.5 \"/>\n<text text-anchor=\"middle\" x=\"2004.1\" y=\"-95.8\" font-family=\"Times,serif\" font-size=\"14.00\">data &#45;1.0000</text>\n<polyline fill=\"none\" stroke=\"black\" points=\"2057.6,-81.5 2057.6,-117.5 \"/>\n<text text-anchor=\"middle\" x=\"2109.6\" y=\"-95.8\" font-family=\"Times,serif\" font-size=\"14.00\">grad 0.1464</text>\n</g>\n<!-- 139771762642416&#45;&gt;139771762640592+ -->\n<g id=\"edge22\" class=\"edge\">\n<title>139771762642416&#45;&gt;139771762640592+</title>\n<path fill=\"none\" stroke=\"black\" d=\"M2161.69,-117.06C2171.05,-118.49 2179.98,-119.85 2188,-121.07\"/>\n<polygon fill=\"black\" stroke=\"black\" points=\"2187.55,-124.54 2197.96,-122.59 2188.61,-117.62 2187.55,-124.54\"/>\n</g>\n</g>\n</svg>\n",
      "text/plain": [
       "<graphviz.graphs.Digraph at 0x7f1f26433f70>"
      ]
     },
     "execution_count": 90,
     "metadata": {},
     "output_type": "execute_result"
    }
   ],
   "source": [
    "draw_dot(o)"
   ]
  },
  {
   "cell_type": "code",
   "execution_count": null,
   "metadata": {},
   "outputs": [],
   "source": []
  },
  {
   "cell_type": "markdown",
   "metadata": {},
   "source": [
    "#### Building a Neural network"
   ]
  },
  {
   "cell_type": "code",
   "execution_count": 35,
   "metadata": {},
   "outputs": [],
   "source": [
    "class Neuron:\n",
    "\n",
    "    def __init__(self, nin):  # nin -> number of inputs\n",
    "\n",
    "        self.w = [Value(random.uniform(-1, 1)) for _ in range(nin)]\n",
    "        self.b = Value(random.uniform(-1, 1))\n",
    "\n",
    "    def __call__(self, x):\n",
    "\n",
    "        # w*x + b\n",
    "        act = sum((wi*xi for wi, xi in zip(self.w, x)), self.b)\n",
    "        out = act.tanh()\n",
    "        return out\n",
    "\n",
    "    def parameters(self):\n",
    "\n",
    "        return self.w + [self.b]\n",
    "\n",
    "class Layer:\n",
    "\n",
    "    def __init__(self, nin, nout):\n",
    "\n",
    "        self.neurons = [Neuron(nin) for _ in range(nout)]\n",
    "\n",
    "    def __call__(self, x):\n",
    "\n",
    "        outs = [n(x) for n in self.neurons]\n",
    "        return outs[0] if len(outs)==1 else outs\n",
    "\n",
    "    def parameters(self):\n",
    "\n",
    "        return [p for neuron in self.neurons for p in neuron.parameters()]\n",
    "\n",
    "class MLP:\n",
    "\n",
    "    def __init__(self, nin, nouts):\n",
    "\n",
    "        sz = [nin] + nouts\n",
    "        self.layers = [Layer(sz[i], sz[i+1]) for i in range(len(nouts))]\n",
    "\n",
    "    def __call__(self, x):\n",
    "\n",
    "        for layer in self.layers:\n",
    "            x = layer(x)\n",
    "\n",
    "        return x\n",
    "\n",
    "    def parameters(self):\n",
    "\n",
    "        return [p for layer in self.layers for p in layer.parameters()]"
   ]
  },
  {
   "cell_type": "code",
   "execution_count": 36,
   "metadata": {},
   "outputs": [
    {
     "data": {
      "text/plain": [
       "Value(data=-0.05201473800937045)"
      ]
     },
     "execution_count": 36,
     "metadata": {},
     "output_type": "execute_result"
    }
   ],
   "source": [
    "x = [2.0, 3.0, -1.0]\n",
    "n = MLP(3, [4, 4, 1])\n",
    "n(x)"
   ]
  },
  {
   "cell_type": "code",
   "execution_count": 94,
   "metadata": {},
   "outputs": [],
   "source": [
    "xs = [[2, 3, -1], [3, -1, 0.5], [0.5, 1, 1], [1, 1, -1]]\n",
    "ys = [1, -1, -1, 1]\n",
    "\n",
    "mlp = MLP(3, [4, 4, 1])"
   ]
  },
  {
   "cell_type": "code",
   "execution_count": 95,
   "metadata": {},
   "outputs": [
    {
     "name": "stdout",
     "output_type": "stream",
     "text": [
      "0 5.442379046652496\n",
      "1 4.857865184355242\n",
      "2 4.478775025794239\n",
      "3 4.226492827832675\n",
      "4 3.994034103696853\n",
      "5 3.632533952697393\n",
      "6 2.6395722822253407\n",
      "7 0.8461002525140305\n",
      "8 0.5981176541294169\n",
      "9 0.4807737059687405\n",
      "10 0.4015692250143294\n",
      "11 0.3444175545586038\n",
      "12 0.30125534620683414\n",
      "13 0.2675068845739826\n",
      "14 0.24039143169401472\n",
      "15 0.2181259195430785\n",
      "16 0.19951533007377276\n",
      "17 0.18372871688117784\n",
      "18 0.17017013975983775\n",
      "19 0.15840085185237268\n",
      "20 0.14809051362683814\n",
      "21 0.13898554756488338\n",
      "22 0.13088799305464965\n",
      "23 0.12364100490934443\n",
      "24 0.11711867724040073\n",
      "25 0.11121875571167888\n",
      "26 0.10585732272431635\n",
      "27 0.10096485782026132\n",
      "28 0.0964832743216843\n",
      "29 0.09236366050222114\n",
      "30 0.08856453687667132\n",
      "31 0.08505049677892017\n",
      "32 0.08179113516021283\n",
      "33 0.07876019661899814\n",
      "34 0.07593489195744317\n",
      "35 0.07329534555765105\n",
      "36 0.07082414523017333\n",
      "37 0.06850597300772518\n",
      "38 0.0663273003822335\n",
      "39 0.06427613522429373\n",
      "40 0.062341810435910264\n",
      "41 0.06051480651992998\n",
      "42 0.05878660188066042\n",
      "43 0.057149545927636505\n",
      "44 0.05559675103120434\n"
     ]
    }
   ],
   "source": [
    "for k in range(45):\n",
    "\n",
    "    # forward pass\n",
    "    ypred = [mlp(x) for x in xs]\n",
    "    loss = sum((yout - ygt)**2 for ygt, yout in zip(ys, ypred))\n",
    "\n",
    "    # backward pass\n",
    "    for p in mlp.parameters():\n",
    "        p.grad = 0.0\n",
    "\n",
    "    loss.backward()\n",
    "\n",
    "    # update\n",
    "    for p in mlp.parameters():\n",
    "        p.data += -0.01 * p.grad\n",
    "\n",
    "    print(k, loss.data)"
   ]
  },
  {
   "cell_type": "code",
   "execution_count": 96,
   "metadata": {},
   "outputs": [
    {
     "data": {
      "text/plain": [
       "[Value(data=0.9805866387827146),\n",
       " Value(data=-0.8619254064489132),\n",
       " Value(data=-0.8524903237219414),\n",
       " Value(data=0.8800159408192234)]"
      ]
     },
     "execution_count": 96,
     "metadata": {},
     "output_type": "execute_result"
    }
   ],
   "source": [
    "ypred"
   ]
  },
  {
   "cell_type": "code",
   "execution_count": null,
   "metadata": {},
   "outputs": [],
   "source": []
  },
  {
   "cell_type": "code",
   "execution_count": null,
   "metadata": {},
   "outputs": [],
   "source": []
  }
 ],
 "metadata": {
  "kernelspec": {
   "display_name": "Python 3.10.4 ('tf-sessions')",
   "language": "python",
   "name": "python3"
  },
  "language_info": {
   "codemirror_mode": {
    "name": "ipython",
    "version": 3
   },
   "file_extension": ".py",
   "mimetype": "text/x-python",
   "name": "python",
   "nbconvert_exporter": "python",
   "pygments_lexer": "ipython3",
   "version": "3.10.4"
  },
  "orig_nbformat": 4,
  "vscode": {
   "interpreter": {
    "hash": "86e96f60bce4e49ae53aba450b9b9a7d641474abd96f49baf3fffc0640e8ed93"
   }
  }
 },
 "nbformat": 4,
 "nbformat_minor": 2
}
